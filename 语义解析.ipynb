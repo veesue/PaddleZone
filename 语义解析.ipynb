{
 "cells": [
  {
   "cell_type": "markdown",
   "metadata": {
    "collapsed": false
   },
   "source": [
    "直接使用官方baseline: [https://github.com/PaddlePaddle/Research/tree/master/NLP/Text2SQL-BASELINE](https://github.com/PaddlePaddle/Research/tree/master/NLP/Text2SQL-BASELINE)\n",
    "\n",
    "预测使用官方训练好的模型，效果远好于自己训练了3个epoch的模型"
   ]
  },
  {
   "cell_type": "code",
   "execution_count": null,
   "metadata": {
    "collapsed": false
   },
   "outputs": [],
   "source": [
    "!pip install --upgrade paddlenlp -i https://pypi.org/simple"
   ]
  },
  {
   "cell_type": "code",
   "execution_count": null,
   "metadata": {
    "collapsed": false
   },
   "outputs": [],
   "source": [
    "!pip install -r requirements.txt"
   ]
  },
  {
   "cell_type": "code",
   "execution_count": null,
   "metadata": {
    "collapsed": false
   },
   "outputs": [],
   "source": [
    "!bash data/download_ernie1.0.sh"
   ]
  },
  {
   "cell_type": "code",
   "execution_count": null,
   "metadata": {
    "collapsed": false
   },
   "outputs": [],
   "source": [
    "!bash data/download_model_data.sh"
   ]
  },
  {
   "cell_type": "code",
   "execution_count": null,
   "metadata": {
    "collapsed": false
   },
   "outputs": [],
   "source": [
    "!bash data/download_trained_model.sh"
   ]
  },
  {
   "cell_type": "code",
   "execution_count": null,
   "metadata": {
    "collapsed": false
   },
   "outputs": [],
   "source": [
    "# 训练集\r\n",
    "!bash ./run.sh ./script/schema_linking.py \\\r\n",
    "        -s data/CSpider/db_schema.json \\\r\n",
    "        -c data/CSpider/db_content.json \\\r\n",
    "        -o data/CSpider/match_values_train.json \\\r\n",
    "        data/CSpider/train.json --is-train\r\n",
    "\r\n",
    "# 开发集和测试集\r\n",
    "!bash ./run.sh ./script/schema_linking.py \\\r\n",
    "        -s data/CSpider/db_schema.json \\\r\n",
    "        -c data/CSpider/db_content.json \\\r\n",
    "        -o data/CSpider/match_values_dev.json \\\r\n",
    "        data/CSpider/dev.json\r\n",
    "!bash ./run.sh ./script/schema_linking.py \\\r\n",
    "        -s data/CSpider/db_schema.json \\\r\n",
    "        -c data/CSpider/db_content.json \\\r\n",
    "        -o data/CSpider/match_values_test.json \\\r\n",
    "        data/CSpider/test.json"
   ]
  },
  {
   "cell_type": "code",
   "execution_count": null,
   "metadata": {
    "collapsed": false
   },
   "outputs": [],
   "source": [
    "!bash ./run.sh ./script/text2sql_main.py \\\r\n",
    "        --mode preproc \\\r\n",
    "        --config conf/text2sql_cspider.jsonnet \\\r\n",
    "        --data-root data/CSpider/ \\\r\n",
    "        --is-cached false \\\r\n",
    "        --output data/CSpider/preproc"
   ]
  },
  {
   "cell_type": "code",
   "execution_count": null,
   "metadata": {
    "collapsed": false
   },
   "outputs": [],
   "source": [
    "!bash ./run.sh ./script/text2sql_main.py --mode infer \\\r\n",
    "         --config conf/text2sql_cspider.jsonnet \\\r\n",
    "         --data-root data/CSpider/preproc \\\r\n",
    "         --test-set data/CSpider/preproc/test.pkl \\\r\n",
    "         --init-model-param data/trained_model/cspider.pdparams \\\r\n",
    "         --output output/cspider_test_infer_result.sql"
   ]
  },
  {
   "cell_type": "markdown",
   "metadata": {
    "collapsed": false
   },
   "source": [
    "请点击[此处](https://ai.baidu.com/docs#/AIStudio_Project_Notebook/a38e5576)查看本环境基本用法.  <br>\n",
    "Please click [here ](https://ai.baidu.com/docs#/AIStudio_Project_Notebook/a38e5576) for more detailed instructions. "
   ]
  }
 ],
 "metadata": {
  "kernelspec": {
   "display_name": "PaddlePaddle 2.1.0 (Python 3.5)",
   "language": "python",
   "name": "py35-paddle1.2.0"
  },
  "language_info": {
   "codemirror_mode": {
    "name": "ipython",
    "version": 3
   },
   "file_extension": ".py",
   "mimetype": "text/x-python",
   "name": "python",
   "nbconvert_exporter": "python",
   "pygments_lexer": "ipython3",
   "version": "3.7.4"
  }
 },
 "nbformat": 4,
 "nbformat_minor": 1
}
