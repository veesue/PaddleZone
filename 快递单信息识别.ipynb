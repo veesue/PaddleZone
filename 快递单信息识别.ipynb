{
 "cells": [
  {
   "cell_type": "markdown",
   "metadata": {
    "collapsed": false
   },
   "source": [
    "# 作业\n",
    "\n",
    "更换数据集MSRA和ERNIE-Gram或BERT等预训练模型。\n",
    "\n",
    "- 数据集：\n",
    "`train_ds, test_ds = load_dataset(\"msra_ner\", splits=[\"train\", \"test\"])`\n",
    "- 模型：\n",
    "\t将`from paddlenlp.transformers import ErnieTokenizer, ErnieForTokenClassification`换成相应的模型。"
   ]
  },
  {
   "cell_type": "markdown",
   "metadata": {
    "collapsed": false
   },
   "source": [
    "# 使用PaddleNLP语义预训练模型ERNIE完成快递单信息抽取\n",
    "\n",
    "\n",
    "**注意**\n",
    "\n",
    "本项目代码需要使用GPU环境来运行:\n",
    "\n",
    "<img src=\"https://ai-studio-static-online.cdn.bcebos.com/767f625548714f03b105b6ccb3aa78df9080e38d329e445380f505ddec6c7042\" width=\"40%\" height=\"40%\">\n",
    "<br>\n",
    "<br>\n",
    "\n",
    "命名实体识别是NLP中一项非常基础的任务，是信息提取、问答系统、句法分析、机器翻译等众多NLP任务的重要基础工具。命名实体识别的准确度，决定了下游任务的效果，是NLP中的一个基础问题。在NER任务提供了两种解决方案，一类LSTM/GRU + CRF，通过RNN类的模型来抽取底层文本的信息，而CRF(条件随机场)模型来学习底层Token之间的联系；另外一类是通过预训练模型，例如ERNIE，BERT模型，直接来预测Token的标签信息。\n",
    "\n",
    "本项目将演示如何使用PaddleNLP语义预训练模型ERNIE完成从快递单中抽取姓名、电话、省、市、区、详细地址等内容，形成结构化信息。辅助物流行业从业者进行有效信息的提取，从而降低客户填单的成本。"
   ]
  },
  {
   "cell_type": "markdown",
   "metadata": {
    "collapsed": false
   },
   "source": [
    "在2017年之前，工业界和学术界对文本处理依赖于序列模型[Recurrent Neural Network (RNN)](https://baike.baidu.com/item/%E5%BE%AA%E7%8E%AF%E7%A5%9E%E7%BB%8F%E7%BD%91%E7%BB%9C/23199490?fromtitle=RNN&fromid=5707183&fr=aladdin).\n",
    "\n",
    "<p align=\"center\">\n",
    "<img src=\"http://colah.github.io/posts/2015-09-NN-Types-FP/img/RNN-general.png\" width=\"40%\" height=\"30%\"> <br />\n",
    "</p><br><center>图1：RNN示意图</center></br>\n",
    "\n",
    "[基于BiGRU+CRF的快递单信息抽取](https://aistudio.baidu.com/aistudio/projectdetail/1317771)项目介绍了如何使用序列模型完成快递单信息抽取任务。\n",
    "<br>\n",
    "\n",
    "近年来随着深度学习的发展，模型参数的数量飞速增长。为了训练这些参数，需要更大的数据集来避免过拟合。然而，对于大部分NLP任务来说，构建大规模的标注数据集非常困难（成本过高），特别是对于句法和语义相关的任务。相比之下，大规模的未标注语料库的构建则相对容易。为了利用这些数据，我们可以先从其中学习到一个好的表示，再将这些表示应用到其他任务中。最近的研究表明，基于大规模未标注语料库的预训练模型（Pretrained Models, PTM) 在NLP任务上取得了很好的表现。\n",
    "\n",
    "近年来，大量的研究表明基于大型语料库的预训练模型（Pretrained Models, PTM）可以学习通用的语言表示，有利于下游NLP任务，同时能够避免从零开始训练模型。随着计算能力的不断提高，深度模型的出现（即 Transformer）和训练技巧的增强使得 PTM 不断发展，由浅变深。\n",
    "\n",
    "\n",
    "<p align=\"center\">\n",
    "<img src=\"https://ai-studio-static-online.cdn.bcebos.com/327f44ff3ed24493adca5ddc4dc24bf61eebe67c84a6492f872406f464fde91e\" width=\"60%\" height=\"50%\"> <br />\n",
    "</p><br><center>图2：预训练模型一览，图片来源于：https://github.com/thunlp/PLMpapers</center></br>\n",
    "                                                                                                                             \n",
    "本示例展示了以ERNIE([Enhanced Representation through Knowledge Integration](https://arxiv.org/pdf/1904.09223))为代表的预训练模型如何Finetune完成序列标注任务。"
   ]
  },
  {
   "cell_type": "markdown",
   "metadata": {
    "collapsed": false
   },
   "source": [
    "**记得给[PaddleNLP](https://github.com/PaddlePaddle/PaddleNLP)点个小小的Star⭐**\n",
    "\n",
    "开源不易，希望大家多多支持~ \n",
    "\n",
    "GitHub地址：[https://github.com/PaddlePaddle/PaddleNLP](https://github.com/PaddlePaddle/PaddleNLP)\n",
    "![](https://ai-studio-static-online.cdn.bcebos.com/a0e8ca7743ea4fe9aa741682a63e767f8c48dc55981f4e44a40e0e00d3ab369e)"
   ]
  },
  {
   "cell_type": "markdown",
   "metadata": {
    "collapsed": false
   },
   "source": [
    "AI Studio平台后续会默认安装PaddleNLP，在此之前可使用如下命令安装。"
   ]
  },
  {
   "cell_type": "code",
   "execution_count": 11,
   "metadata": {
    "collapsed": false
   },
   "outputs": [
    {
     "name": "stdout",
     "output_type": "stream",
     "text": [
      "Looking in indexes: https://mirror.baidu.com/pypi/simple/\n",
      "Requirement already up-to-date: paddlenlp in /opt/conda/envs/python35-paddle120-env/lib/python3.7/site-packages (2.0.2)\n",
      "Requirement already satisfied, skipping upgrade: seqeval in /opt/conda/envs/python35-paddle120-env/lib/python3.7/site-packages (from paddlenlp) (1.2.2)\n",
      "Requirement already satisfied, skipping upgrade: colorama in /opt/conda/envs/python35-paddle120-env/lib/python3.7/site-packages (from paddlenlp) (0.4.4)\n",
      "Requirement already satisfied, skipping upgrade: h5py in /opt/conda/envs/python35-paddle120-env/lib/python3.7/site-packages (from paddlenlp) (2.9.0)\n",
      "Requirement already satisfied, skipping upgrade: jieba in /opt/conda/envs/python35-paddle120-env/lib/python3.7/site-packages (from paddlenlp) (0.42.1)\n",
      "Requirement already satisfied, skipping upgrade: multiprocess in /opt/conda/envs/python35-paddle120-env/lib/python3.7/site-packages (from paddlenlp) (0.70.11.1)\n",
      "Requirement already satisfied, skipping upgrade: visualdl in /opt/conda/envs/python35-paddle120-env/lib/python3.7/site-packages (from paddlenlp) (2.1.1)\n",
      "Requirement already satisfied, skipping upgrade: colorlog in /opt/conda/envs/python35-paddle120-env/lib/python3.7/site-packages (from paddlenlp) (4.1.0)\n",
      "Requirement already satisfied, skipping upgrade: numpy>=1.14.0 in /opt/conda/envs/python35-paddle120-env/lib/python3.7/site-packages (from seqeval->paddlenlp) (1.20.3)\n",
      "Requirement already satisfied, skipping upgrade: scikit-learn>=0.21.3 in /opt/conda/envs/python35-paddle120-env/lib/python3.7/site-packages (from seqeval->paddlenlp) (0.24.2)\n",
      "Requirement already satisfied, skipping upgrade: six in /opt/conda/envs/python35-paddle120-env/lib/python3.7/site-packages (from h5py->paddlenlp) (1.15.0)\n",
      "Requirement already satisfied, skipping upgrade: dill>=0.3.3 in /opt/conda/envs/python35-paddle120-env/lib/python3.7/site-packages (from multiprocess->paddlenlp) (0.3.3)\n",
      "Requirement already satisfied, skipping upgrade: Pillow>=7.0.0 in /opt/conda/envs/python35-paddle120-env/lib/python3.7/site-packages (from visualdl->paddlenlp) (7.1.2)\n",
      "Requirement already satisfied, skipping upgrade: Flask-Babel>=1.0.0 in /opt/conda/envs/python35-paddle120-env/lib/python3.7/site-packages (from visualdl->paddlenlp) (1.0.0)\n",
      "Requirement already satisfied, skipping upgrade: requests in /opt/conda/envs/python35-paddle120-env/lib/python3.7/site-packages (from visualdl->paddlenlp) (2.22.0)\n",
      "Requirement already satisfied, skipping upgrade: shellcheck-py in /opt/conda/envs/python35-paddle120-env/lib/python3.7/site-packages (from visualdl->paddlenlp) (0.7.1.1)\n",
      "Requirement already satisfied, skipping upgrade: protobuf>=3.11.0 in /opt/conda/envs/python35-paddle120-env/lib/python3.7/site-packages (from visualdl->paddlenlp) (3.14.0)\n",
      "Requirement already satisfied, skipping upgrade: flask>=1.1.1 in /opt/conda/envs/python35-paddle120-env/lib/python3.7/site-packages (from visualdl->paddlenlp) (1.1.1)\n",
      "Requirement already satisfied, skipping upgrade: bce-python-sdk in /opt/conda/envs/python35-paddle120-env/lib/python3.7/site-packages (from visualdl->paddlenlp) (0.8.53)\n",
      "Requirement already satisfied, skipping upgrade: pre-commit in /opt/conda/envs/python35-paddle120-env/lib/python3.7/site-packages (from visualdl->paddlenlp) (1.21.0)\n",
      "Requirement already satisfied, skipping upgrade: flake8>=3.7.9 in /opt/conda/envs/python35-paddle120-env/lib/python3.7/site-packages (from visualdl->paddlenlp) (3.8.2)\n",
      "Requirement already satisfied, skipping upgrade: scipy>=0.19.1 in /opt/conda/envs/python35-paddle120-env/lib/python3.7/site-packages (from scikit-learn>=0.21.3->seqeval->paddlenlp) (1.6.3)\n",
      "Requirement already satisfied, skipping upgrade: threadpoolctl>=2.0.0 in /opt/conda/envs/python35-paddle120-env/lib/python3.7/site-packages (from scikit-learn>=0.21.3->seqeval->paddlenlp) (2.1.0)\n",
      "Requirement already satisfied, skipping upgrade: joblib>=0.11 in /opt/conda/envs/python35-paddle120-env/lib/python3.7/site-packages (from scikit-learn>=0.21.3->seqeval->paddlenlp) (0.14.1)\n",
      "Requirement already satisfied, skipping upgrade: Jinja2>=2.5 in /opt/conda/envs/python35-paddle120-env/lib/python3.7/site-packages (from Flask-Babel>=1.0.0->visualdl->paddlenlp) (2.10.1)\n",
      "Requirement already satisfied, skipping upgrade: Babel>=2.3 in /opt/conda/envs/python35-paddle120-env/lib/python3.7/site-packages (from Flask-Babel>=1.0.0->visualdl->paddlenlp) (2.8.0)\n",
      "Requirement already satisfied, skipping upgrade: pytz in /opt/conda/envs/python35-paddle120-env/lib/python3.7/site-packages (from Flask-Babel>=1.0.0->visualdl->paddlenlp) (2019.3)\n",
      "Requirement already satisfied, skipping upgrade: urllib3!=1.25.0,!=1.25.1,<1.26,>=1.21.1 in /opt/conda/envs/python35-paddle120-env/lib/python3.7/site-packages (from requests->visualdl->paddlenlp) (1.25.6)\n",
      "Requirement already satisfied, skipping upgrade: chardet<3.1.0,>=3.0.2 in /opt/conda/envs/python35-paddle120-env/lib/python3.7/site-packages (from requests->visualdl->paddlenlp) (3.0.4)\n",
      "Requirement already satisfied, skipping upgrade: idna<2.9,>=2.5 in /opt/conda/envs/python35-paddle120-env/lib/python3.7/site-packages (from requests->visualdl->paddlenlp) (2.8)\n",
      "Requirement already satisfied, skipping upgrade: certifi>=2017.4.17 in /opt/conda/envs/python35-paddle120-env/lib/python3.7/site-packages (from requests->visualdl->paddlenlp) (2019.9.11)\n",
      "Requirement already satisfied, skipping upgrade: Werkzeug>=0.15 in /opt/conda/envs/python35-paddle120-env/lib/python3.7/site-packages (from flask>=1.1.1->visualdl->paddlenlp) (0.16.0)\n",
      "Requirement already satisfied, skipping upgrade: itsdangerous>=0.24 in /opt/conda/envs/python35-paddle120-env/lib/python3.7/site-packages (from flask>=1.1.1->visualdl->paddlenlp) (1.1.0)\n",
      "Requirement already satisfied, skipping upgrade: click>=5.1 in /opt/conda/envs/python35-paddle120-env/lib/python3.7/site-packages (from flask>=1.1.1->visualdl->paddlenlp) (7.0)\n",
      "Requirement already satisfied, skipping upgrade: future>=0.6.0 in /opt/conda/envs/python35-paddle120-env/lib/python3.7/site-packages (from bce-python-sdk->visualdl->paddlenlp) (0.18.0)\n",
      "Requirement already satisfied, skipping upgrade: pycryptodome>=3.8.0 in /opt/conda/envs/python35-paddle120-env/lib/python3.7/site-packages (from bce-python-sdk->visualdl->paddlenlp) (3.9.9)\n",
      "Requirement already satisfied, skipping upgrade: nodeenv>=0.11.1 in /opt/conda/envs/python35-paddle120-env/lib/python3.7/site-packages (from pre-commit->visualdl->paddlenlp) (1.3.4)\n",
      "Requirement already satisfied, skipping upgrade: pyyaml in /opt/conda/envs/python35-paddle120-env/lib/python3.7/site-packages (from pre-commit->visualdl->paddlenlp) (5.1.2)\n",
      "Requirement already satisfied, skipping upgrade: virtualenv>=15.2 in /opt/conda/envs/python35-paddle120-env/lib/python3.7/site-packages (from pre-commit->visualdl->paddlenlp) (16.7.9)\n",
      "Requirement already satisfied, skipping upgrade: importlib-metadata; python_version < \"3.8\" in /opt/conda/envs/python35-paddle120-env/lib/python3.7/site-packages (from pre-commit->visualdl->paddlenlp) (0.23)\n",
      "Requirement already satisfied, skipping upgrade: identify>=1.0.0 in /opt/conda/envs/python35-paddle120-env/lib/python3.7/site-packages (from pre-commit->visualdl->paddlenlp) (1.4.10)\n",
      "Requirement already satisfied, skipping upgrade: cfgv>=2.0.0 in /opt/conda/envs/python35-paddle120-env/lib/python3.7/site-packages (from pre-commit->visualdl->paddlenlp) (2.0.1)\n",
      "Requirement already satisfied, skipping upgrade: aspy.yaml in /opt/conda/envs/python35-paddle120-env/lib/python3.7/site-packages (from pre-commit->visualdl->paddlenlp) (1.3.0)\n",
      "Requirement already satisfied, skipping upgrade: toml in /opt/conda/envs/python35-paddle120-env/lib/python3.7/site-packages (from pre-commit->visualdl->paddlenlp) (0.10.0)\n",
      "Requirement already satisfied, skipping upgrade: mccabe<0.7.0,>=0.6.0 in /opt/conda/envs/python35-paddle120-env/lib/python3.7/site-packages (from flake8>=3.7.9->visualdl->paddlenlp) (0.6.1)\n",
      "Requirement already satisfied, skipping upgrade: pyflakes<2.3.0,>=2.2.0 in /opt/conda/envs/python35-paddle120-env/lib/python3.7/site-packages (from flake8>=3.7.9->visualdl->paddlenlp) (2.2.0)\n",
      "Requirement already satisfied, skipping upgrade: pycodestyle<2.7.0,>=2.6.0a1 in /opt/conda/envs/python35-paddle120-env/lib/python3.7/site-packages (from flake8>=3.7.9->visualdl->paddlenlp) (2.6.0)\n",
      "Requirement already satisfied, skipping upgrade: MarkupSafe>=0.23 in /opt/conda/envs/python35-paddle120-env/lib/python3.7/site-packages (from Jinja2>=2.5->Flask-Babel>=1.0.0->visualdl->paddlenlp) (1.1.1)\n",
      "Requirement already satisfied, skipping upgrade: zipp>=0.5 in /opt/conda/envs/python35-paddle120-env/lib/python3.7/site-packages (from importlib-metadata; python_version < \"3.8\"->pre-commit->visualdl->paddlenlp) (0.6.0)\n",
      "Requirement already satisfied, skipping upgrade: more-itertools in /opt/conda/envs/python35-paddle120-env/lib/python3.7/site-packages (from zipp>=0.5->importlib-metadata; python_version < \"3.8\"->pre-commit->visualdl->paddlenlp) (7.2.0)\n"
     ]
    }
   ],
   "source": [
    "!pip install --upgrade paddlenlp"
   ]
  },
  {
   "cell_type": "code",
   "execution_count": 12,
   "metadata": {
    "collapsed": false
   },
   "outputs": [
    {
     "name": "stdout",
     "output_type": "stream",
     "text": [
      "text_a\tlabel\r\n",
      "黑\u0002龙\u0002江\u0002省\u0002双\u0002鸭\u0002山\u0002市\u0002尖\u0002山\u0002区\u0002八\u0002马\u0002路\u0002与\u0002东\u0002平\u0002行\u0002路\u0002交\u0002叉\u0002口\u0002北\u00024\u00020\u0002米\u0002韦\u0002业\u0002涛\u00021\u00028\u00026\u00020\u00020\u00020\u00020\u00029\u00021\u00027\u00022\tA1-B\u0002A1-I\u0002A1-I\u0002A1-I\u0002A2-B\u0002A2-I\u0002A2-I\u0002A2-I\u0002A3-B\u0002A3-I\u0002A3-I\u0002A4-B\u0002A4-I\u0002A4-I\u0002A4-I\u0002A4-I\u0002A4-I\u0002A4-I\u0002A4-I\u0002A4-I\u0002A4-I\u0002A4-I\u0002A4-I\u0002A4-I\u0002A4-I\u0002A4-I\u0002P-B\u0002P-I\u0002P-I\u0002T-B\u0002T-I\u0002T-I\u0002T-I\u0002T-I\u0002T-I\u0002T-I\u0002T-I\u0002T-I\u0002T-I\u0002T-I\r\n",
      "广\u0002西\u0002壮\u0002族\u0002自\u0002治\u0002区\u0002桂\u0002林\u0002市\u0002雁\u0002山\u0002区\u0002雁\u0002山\u0002镇\u0002西\u0002龙\u0002村\u0002老\u0002年\u0002活\u0002动\u0002中\u0002心\u00021\u00027\u00026\u00021\u00020\u00023\u00024\u00028\u00028\u00028\u00028\u0002羊\u0002卓\u0002卫\tA1-B\u0002A1-I\u0002A1-I\u0002A1-I\u0002A1-I\u0002A1-I\u0002A1-I\u0002A2-B\u0002A2-I\u0002A2-I\u0002A3-B\u0002A3-I\u0002A3-I\u0002A4-B\u0002A4-I\u0002A4-I\u0002A4-I\u0002A4-I\u0002A4-I\u0002A4-I\u0002A4-I\u0002A4-I\u0002A4-I\u0002A4-I\u0002A4-I\u0002T-B\u0002T-I\u0002T-I\u0002T-I\u0002T-I\u0002T-I\u0002T-I\u0002T-I\u0002T-I\u0002T-I\u0002T-I\u0002P-B\u0002P-I\u0002P-I\r\n",
      "1\u00025\u00026\u00025\u00022\u00028\u00026\u00024\u00025\u00026\u00021\u0002河\u0002南\u0002省\u0002开\u0002封\u0002市\u0002顺\u0002河\u0002回\u0002族\u0002区\u0002顺\u0002河\u0002区\u0002公\u0002园\u0002路\u00023\u00022\u0002号\u0002赵\u0002本\u0002山\tT-B\u0002T-I\u0002T-I\u0002T-I\u0002T-I\u0002T-I\u0002T-I\u0002T-I\u0002T-I\u0002T-I\u0002T-I\u0002A1-B\u0002A1-I\u0002A1-I\u0002A2-B\u0002A2-I\u0002A2-I\u0002A3-B\u0002A3-I\u0002A3-I\u0002A3-I\u0002A3-I\u0002A4-B\u0002A4-I\u0002A4-I\u0002A4-I\u0002A4-I\u0002A4-I\u0002A4-I\u0002A4-I\u0002A4-I\u0002P-B\u0002P-I\u0002P-I\r\n",
      "河\u0002北\u0002省\u0002唐\u0002山\u0002市\u0002玉\u0002田\u0002县\u0002无\u0002终\u0002大\u0002街\u00021\u00025\u00029\u0002号\u00021\u00028\u00026\u00021\u00024\u00022\u00025\u00023\u00020\u00025\u00028\u0002尚\u0002汉\u0002生\tA1-B\u0002A1-I\u0002A1-I\u0002A2-B\u0002A2-I\u0002A2-I\u0002A3-B\u0002A3-I\u0002A3-I\u0002A4-B\u0002A4-I\u0002A4-I\u0002A4-I\u0002A4-I\u0002A4-I\u0002A4-I\u0002A4-I\u0002T-B\u0002T-I\u0002T-I\u0002T-I\u0002T-I\u0002T-I\u0002T-I\u0002T-I\u0002T-I\u0002T-I\u0002T-I\u0002P-B\u0002P-I\u0002P-I\r\n"
     ]
    }
   ],
   "source": [
    "# 下载并解压数据集\n",
    "from paddle.utils.download import get_path_from_url\n",
    "URL = \"https://paddlenlp.bj.bcebos.com/paddlenlp/datasets/waybill.tar.gz\"\n",
    "get_path_from_url(URL, \"./\")\n",
    "\n",
    "# 查看预测的数据\n",
    "!head -n 5 data/test.txt"
   ]
  },
  {
   "cell_type": "code",
   "execution_count": 13,
   "metadata": {
    "collapsed": false
   },
   "outputs": [],
   "source": [
    "from functools import partial\n",
    "\n",
    "import paddle\n",
    "from paddlenlp.datasets import MapDataset\n",
    "from paddlenlp.data import Stack, Tuple, Pad\n",
    "from paddlenlp.transformers import BertTokenizer, BertForTokenClassification\n",
    "from paddlenlp.metrics import ChunkEvaluator\n",
    "from utils import convert_example, evaluate, predict, load_dict"
   ]
  },
  {
   "cell_type": "markdown",
   "metadata": {
    "collapsed": false
   },
   "source": [
    "## 加载自定义数据集\n",
    "\n",
    "推荐使用MapDataset()自定义数据集。"
   ]
  },
  {
   "cell_type": "code",
   "execution_count": 14,
   "metadata": {
    "collapsed": false
   },
   "outputs": [],
   "source": [
    "from paddlenlp.datasets import load_dataset\n",
    "\n",
    "# 由于MSRA_NER数据集没有dev dataset，我们这里重复加载test dataset作为dev_ds\n",
    "train_ds, dev_ds, test_ds = load_dataset(\n",
    "        'msra_ner', splits=('train', 'test', 'test'), lazy=False)\n",
    "\n",
    "# 注意删除 label_vocab = load_dict('./data/tag.dic')\n",
    "label_vocab = {label:label_id for label_id, label in enumerate(train_ds.label_list)}"
   ]
  },
  {
   "cell_type": "markdown",
   "metadata": {
    "collapsed": false
   },
   "source": [
    "import random\r\n",
    "\r\n",
    "len_limit=256\r\n",
    "def filter_fn(data):\r\n",
    "    if len(data['tokens'])>len_limit:\r\n",
    "        return False\r\n",
    "    if sum(data['labels'])==6*len(data['labels']):\r\n",
    "        if random.random()<0.7:\r\n",
    "            return False\r\n",
    "        else:\r\n",
    "            return True\r\n",
    "    return True\r\n",
    "\r\n",
    "train_ds=train_ds.filter(filter_fn)\r\n",
    "test_ds=test_ds.filter(filter_fn)\r\n"
   ]
  },
  {
   "cell_type": "code",
   "execution_count": 15,
   "metadata": {
    "collapsed": false
   },
   "outputs": [
    {
     "name": "stdout",
     "output_type": "stream",
     "text": [
      "{'tokens': ['当', '希', '望', '工', '程', '救', '助', '的', '百', '万', '儿', '童', '成', '长', '起', '来', '，', '科', '教', '兴', '国', '蔚', '然', '成', '风', '时', '，', '今', '天', '有', '收', '藏', '价', '值', '的', '书', '你', '没', '买', '，', '明', '日', '就', '叫', '你', '悔', '不', '当', '初', '！'], 'labels': [6, 6, 6, 6, 6, 6, 6, 6, 6, 6, 6, 6, 6, 6, 6, 6, 6, 6, 6, 6, 6, 6, 6, 6, 6, 6, 6, 6, 6, 6, 6, 6, 6, 6, 6, 6, 6, 6, 6, 6, 6, 6, 6, 6, 6, 6, 6, 6, 6, 6]}\n",
      "{'tokens': ['藏', '书', '本', '来', '就', '是', '所', '有', '传', '统', '收', '藏', '门', '类', '中', '的', '第', '一', '大', '户', '，', '只', '是', '我', '们', '结', '束', '温', '饱', '的', '时', '间', '太', '短', '而', '已', '。'], 'labels': [6, 6, 6, 6, 6, 6, 6, 6, 6, 6, 6, 6, 6, 6, 6, 6, 6, 6, 6, 6, 6, 6, 6, 6, 6, 6, 6, 6, 6, 6, 6, 6, 6, 6, 6, 6, 6]}\n",
      "{'tokens': ['因', '有', '关', '日', '寇', '在', '京', '掠', '夺', '文', '物', '详', '情', '，', '藏', '界', '较', '为', '重', '视', '，', '也', '是', '我', '们', '收', '藏', '北', '京', '史', '料', '中', '的', '要', '件', '之', '一', '。'], 'labels': [6, 6, 6, 4, 6, 6, 4, 6, 6, 6, 6, 6, 6, 6, 6, 6, 6, 6, 6, 6, 6, 6, 6, 6, 6, 6, 6, 4, 5, 6, 6, 6, 6, 6, 6, 6, 6, 6]}\n",
      "{'tokens': ['我', '们', '藏', '有', '一', '册', '１', '９', '４', '５', '年', '６', '月', '油', '印', '的', '《', '北', '京', '文', '物', '保', '存', '保', '管', '状', '态', '之', '调', '查', '报', '告', '》', '，', '调', '查', '范', '围', '涉', '及', '故', '宫', '、', '历', '博', '、', '古', '研', '所', '、', '北', '大', '清', '华', '图', '书', '馆', '、', '北', '图', '、', '日', '伪', '资', '料', '库', '等', '二', '十', '几', '家', '，', '言', '及', '文', '物', '二', '十', '万', '件', '以', '上', '，', '洋', '洋', '三', '万', '余', '言', '，', '是', '珍', '贵', '的', '北', '京', '史', '料', '。'], 'labels': [6, 6, 6, 6, 6, 6, 6, 6, 6, 6, 6, 6, 6, 6, 6, 6, 6, 4, 5, 6, 6, 6, 6, 6, 6, 6, 6, 6, 6, 6, 6, 6, 6, 6, 6, 6, 6, 6, 6, 6, 4, 5, 6, 4, 5, 6, 2, 3, 3, 6, 4, 5, 5, 5, 5, 5, 5, 6, 4, 5, 6, 4, 6, 6, 6, 6, 6, 6, 6, 6, 6, 6, 6, 6, 6, 6, 6, 6, 6, 6, 6, 6, 6, 6, 6, 6, 6, 6, 6, 6, 6, 6, 6, 6, 4, 5, 6, 6, 6]}\n",
      "{'tokens': ['以', '家', '乡', '的', '历', '史', '文', '献', '、', '特', '定', '历', '史', '时', '期', '书', '刊', '、', '某', '一', '名', '家', '或', '名', '著', '的', '多', '种', '出', '版', '物', '为', '专', '题', '，', '注', '意', '精', '品', '、', '非', '卖', '品', '、', '纪', '念', '品', '，', '集', '成', '系', '列', '，', '那', '收', '藏', '的', '过', '程', '就', '已', '经', '够', '您', '玩', '味', '无', '穷', '了', '。'], 'labels': [6, 6, 6, 6, 6, 6, 6, 6, 6, 6, 6, 6, 6, 6, 6, 6, 6, 6, 6, 6, 6, 6, 6, 6, 6, 6, 6, 6, 6, 6, 6, 6, 6, 6, 6, 6, 6, 6, 6, 6, 6, 6, 6, 6, 6, 6, 6, 6, 6, 6, 6, 6, 6, 6, 6, 6, 6, 6, 6, 6, 6, 6, 6, 6, 6, 6, 6, 6, 6, 6]}\n",
      "{'tokens': ['我', '们', '是', '受', '到', '郑', '振', '铎', '先', '生', '、', '阿', '英', '先', '生', '著', '作', '的', '启', '示', '，', '从', '个', '人', '条', '件', '出', '发', '，', '瞄', '准', '现', '代', '出', '版', '史', '研', '究', '的', '空', '白', '，', '重', '点', '集', '藏', '解', '放', '区', '、', '国', '民', '党', '毁', '禁', '出', '版', '物', '。'], 'labels': [6, 6, 6, 6, 6, 0, 1, 1, 6, 6, 6, 0, 1, 6, 6, 6, 6, 6, 6, 6, 6, 6, 6, 6, 6, 6, 6, 6, 6, 6, 6, 6, 6, 6, 6, 6, 6, 6, 6, 6, 6, 6, 6, 6, 6, 6, 6, 6, 6, 6, 2, 3, 3, 6, 6, 6, 6, 6, 6]}\n",
      "{'tokens': ['靠', '自', '己', '的', '鉴', '赏', '能', '力', '，', '将', '某', '一', '专', '题', '尽', '可', '能', '多', '的', '书', '籍', '汇', '集', '在', '身', '旁', '，', '并', '得', '到', '收', '藏', '界', '的', '认', '可', '，', '那', '你', '就', '是', '真', '正', '意', '义', '上', '的', '藏', '书', '家', '了', '。'], 'labels': [6, 6, 6, 6, 6, 6, 6, 6, 6, 6, 6, 6, 6, 6, 6, 6, 6, 6, 6, 6, 6, 6, 6, 6, 6, 6, 6, 6, 6, 6, 6, 6, 6, 6, 6, 6, 6, 6, 6, 6, 6, 6, 6, 6, 6, 6, 6, 6, 6, 6, 6, 6]}\n",
      "{'tokens': ['精', '品', '、', '专', '题', '、', '系', '列', '、', '稀', '见', '程', '度', '才', '是', '质', '量', '的', '核', '心', '。'], 'labels': [6, 6, 6, 6, 6, 6, 6, 6, 6, 6, 6, 6, 6, 6, 6, 6, 6, 6, 6, 6, 6]}\n",
      "{'tokens': ['藏', '书', '的', '数', '量', '多', '少', '不', '能', '反', '映', '收', '藏', '的', '质', '量', '，', '更', '不', '是', '工', '薪', '层', '的', '承', '受', '范', '围', '。'], 'labels': [6, 6, 6, 6, 6, 6, 6, 6, 6, 6, 6, 6, 6, 6, 6, 6, 6, 6, 6, 6, 6, 6, 6, 6, 6, 6, 6, 6, 6]}\n",
      "{'tokens': ['书', '籍', '浩', '如', '烟', '海', '，', '靠', '个', '人', '的', '精', '力', '与', '财', '力', '不', '可', '能', '广', '而', '博', '之', '。'], 'labels': [6, 6, 6, 6, 6, 6, 6, 6, 6, 6, 6, 6, 6, 6, 6, 6, 6, 6, 6, 6, 6, 6, 6, 6]}\n",
      "{'tokens': ['保', '存', '典', '籍', '，', '怡', '情', '雅', '好', '，', '著', '书', '立', '说', '，', '这', '才', '是', '藏', '书', '家', '的', '全', '部', '。'], 'labels': [6, 6, 6, 6, 6, 6, 6, 6, 6, 6, 6, 6, 6, 6, 6, 6, 6, 6, 6, 6, 6, 6, 6, 6, 6]}\n",
      "{'tokens': ['闲', '钱', '、', '闲', '地', '方', '、', '闲', '工', '夫', '固', '然', '重', '要', '，', '但', '藏', '书', '要', '有', '文', '化', '底', '蕴', '，', '对', '于', '书', '所', '传', '达', '出', '来', '的', '美', '感', '和', '情', '趣', '，', '要', '放', '到', '一', '定', '的', '专', '业', '背', '景', '下', '才', '能', '显', '现', '。'], 'labels': [6, 6, 6, 6, 6, 6, 6, 6, 6, 6, 6, 6, 6, 6, 6, 6, 6, 6, 6, 6, 6, 6, 6, 6, 6, 6, 6, 6, 6, 6, 6, 6, 6, 6, 6, 6, 6, 6, 6, 6, 6, 6, 6, 6, 6, 6, 6, 6, 6, 6, 6, 6, 6, 6, 6, 6]}\n",
      "{'tokens': ['对', '于', '靠', '藏', '品', '增', '值', '来', '致', '富', '的', '说', '法', '，', '我', '们', '不', '敢', '非', '议', '，', '但', '从', '没', '听', '说', '过', '哪', '位', '藏', '书', '家', '靠', '书', '发', '财', '了', '。'], 'labels': [6, 6, 6, 6, 6, 6, 6, 6, 6, 6, 6, 6, 6, 6, 6, 6, 6, 6, 6, 6, 6, 6, 6, 6, 6, 6, 6, 6, 6, 6, 6, 6, 6, 6, 6, 6, 6, 6]}\n",
      "{'tokens': ['否', '则', '，', '不', '吃', '不', '喝', '也', '得', '当', '个', '藏', '书', '家', '。'], 'labels': [6, 6, 6, 6, 6, 6, 6, 6, 6, 6, 6, 6, 6, 6, 6]}\n",
      "{'tokens': ['许', '多', '初', '入', '此', '道', '的', '朋', '友', '叹', '惜', '没', '赶', '上', '我', '们', '开', '始', '藏', '书', '时', '那', '个', '三', '五', '角', '钱', '买', '本', '线', '装', '书', '的', '时', '代', '。'], 'labels': [6, 6, 6, 6, 6, 6, 6, 6, 6, 6, 6, 6, 6, 6, 6, 6, 6, 6, 6, 6, 6, 6, 6, 6, 6, 6, 6, 6, 6, 6, 6, 6, 6, 6, 6, 6]}\n",
      "{'tokens': ['近', '年', '来', '兴', '起', '的', '集', '藏', '热', '极', '大', '地', '带', '动', '了', '各', '类', '藏', '品', '的', '价', '格', '。'], 'labels': [6, 6, 6, 6, 6, 6, 6, 6, 6, 6, 6, 6, 6, 6, 6, 6, 6, 6, 6, 6, 6, 6, 6]}\n",
      "{'tokens': ['去', '年', '，', '我', '们', '又', '被', '评', '为', '“', '北', '京', '市', '首', '届', '家', '庭', '藏', '书', '状', '元', '明', '星', '户', '”', '。'], 'labels': [6, 6, 6, 6, 6, 6, 6, 6, 6, 6, 4, 5, 5, 6, 6, 6, 6, 6, 6, 6, 6, 6, 6, 6, 6, 6]}\n",
      "{'tokens': ['藏', '书', '家', '、', '作', '家', '姜', '德', '明', '先', '生', '在', '１', '９', '９', '７', '年', '出', '版', '的', '书', '话', '专', '集', '《', '文', '林', '枝', '叶', '》', '中', '以', '“', '爱', '书', '的', '朋', '友', '”', '为', '题', '，', '详', '细', '介', '绍', '了', '我', '们', '夫', '妇', '的', '藏', '品', '及', '三', '口', '之', '家', '以', '书', '为', '友', '、', '好', '乐', '清', '贫', '的', '逸', '闻', '趣', '事', '。'], 'labels': [6, 6, 6, 6, 6, 6, 0, 1, 1, 6, 6, 6, 6, 6, 6, 6, 6, 6, 6, 6, 6, 6, 6, 6, 6, 6, 6, 6, 6, 6, 6, 6, 6, 6, 6, 6, 6, 6, 6, 6, 6, 6, 6, 6, 6, 6, 6, 6, 6, 6, 6, 6, 6, 6, 6, 6, 6, 6, 6, 6, 6, 6, 6, 6, 6, 6, 6, 6, 6, 6, 6, 6, 6, 6]}\n",
      "{'tokens': ['每', '当', '接', '到', '海', '外', '书', '友', '或', '归', '国', '人', '员', '汇', '至', '一', '册', '精', '美', '的', '食', '品', '图', '谱', '时', '，', '全', '家', '人', '欣', '喜', '若', '狂', '；', '而', '一', '册', '交', '换', '品', '离', '我', '而', '去', '，', '虽', '为', '复', '本', '，', '也', '大', '有', '李', '后', '主', '“', '挥', '泪', '别', '宫', '娥', '”', '之', '感', '。'], 'labels': [6, 6, 6, 6, 6, 6, 6, 6, 6, 6, 6, 6, 6, 6, 6, 6, 6, 6, 6, 6, 6, 6, 6, 6, 6, 6, 6, 6, 6, 6, 6, 6, 6, 6, 6, 6, 6, 6, 6, 6, 6, 6, 6, 6, 6, 6, 6, 6, 6, 6, 6, 6, 6, 0, 1, 1, 6, 6, 6, 6, 6, 6, 6, 6, 6, 6]}\n",
      "{'tokens': ['我', '们', '变', '而', '以', '书', '会', '友', '，', '以', '书', '结', '缘', '，', '把', '欧', '美', '、', '港', '台', '流', '行', '的', '食', '品', '类', '图', '谱', '、', '画', '册', '、', '工', '具', '书', '汇', '集', '一', '堂', '。'], 'labels': [6, 6, 6, 6, 6, 6, 6, 6, 6, 6, 6, 6, 6, 6, 6, 4, 4, 6, 4, 4, 6, 6, 6, 6, 6, 6, 6, 6, 6, 6, 6, 6, 6, 6, 6, 6, 6, 6, 6, 6]}\n",
      "{'tokens': ['然', '而', '海', '外', '图', '书', '价', '格', '奇', '昂', '，', '非', '工', '薪', '层', '所', '能', '承', '受', '。'], 'labels': [6, 6, 6, 6, 6, 6, 6, 6, 6, 6, 6, 6, 6, 6, 6, 6, 6, 6, 6, 6]}\n",
      "{'tokens': ['为', '了', '跟', '踪', '国', '际', '最', '新', '食', '品', '工', '艺', '、', '流', '行', '趋', '势', '，', '大', '量', '搜', '集', '海', '外', '专', '业', '书', '刊', '资', '料', '是', '提', '高', '技', '艺', '的', '捷', '径', '。'], 'labels': [6, 6, 6, 6, 6, 6, 6, 6, 6, 6, 6, 6, 6, 6, 6, 6, 6, 6, 6, 6, 6, 6, 6, 6, 6, 6, 6, 6, 6, 6, 6, 6, 6, 6, 6, 6, 6, 6, 6]}\n",
      "{'tokens': ['我', '俩', '都', '是', '从', '事', '食', '品', '生', '产', '营', '销', '工', '作', '的', '。'], 'labels': [6, 6, 6, 6, 6, 6, 6, 6, 6, 6, 6, 6, 6, 6, 6, 6]}\n",
      "{'tokens': ['每', '当', '夜', '深', '人', '静', '，', '一', '册', '册', '把', '玩', '那', '土', '纸', '毛', '边', '、', '久', '经', '战', '火', '的', '藏', '品', '时', '，', '一', '幕', '幕', '可', '歌', '可', '泣', '、', '血', '雨', '腥', '风', '的', '悲', '壮', '场', '景', '便', '历', '历', '在', '目', '，', '怎', '不', '催', '人', '奋', '进', '！'], 'labels': [6, 6, 6, 6, 6, 6, 6, 6, 6, 6, 6, 6, 6, 6, 6, 6, 6, 6, 6, 6, 6, 6, 6, 6, 6, 6, 6, 6, 6, 6, 6, 6, 6, 6, 6, 6, 6, 6, 6, 6, 6, 6, 6, 6, 6, 6, 6, 6, 6, 6, 6, 6, 6, 6, 6, 6, 6]}\n",
      "{'tokens': ['每', '一', '次', '老', '一', '代', '革', '命', '家', '为', '我', '们', '签', '字', '题', '名', '，', '都', '一', '再', '讲', '述', '当', '年', '的', '革', '命', '斗', '争', '经', '历', '，', '叮', '嘱', '我', '们', '继', '续', '收', '藏', '，', '集', '成', '系', '列', '，', '有', '机', '会', '向', '社', '会', '展', '示', '，', '对', '青', '少', '年', '进', '行', '革', '命', '传', '统', '教', '育', '。'], 'labels': [6, 6, 6, 6, 6, 6, 6, 6, 6, 6, 6, 6, 6, 6, 6, 6, 6, 6, 6, 6, 6, 6, 6, 6, 6, 6, 6, 6, 6, 6, 6, 6, 6, 6, 6, 6, 6, 6, 6, 6, 6, 6, 6, 6, 6, 6, 6, 6, 6, 6, 6, 6, 6, 6, 6, 6, 6, 6, 6, 6, 6, 6, 6, 6, 6, 6, 6, 6]}\n",
      "{'tokens': ['老', '一', '代', '红', '军', '将', '领', '孙', '毅', '将', '军', '为', '我', '们', '收', '藏', '的', '二', '十', '余', '册', '（', '１', '９', '３', '７', '年', '—', '１', '９', '４', '５', '年', '）', '晋', '察', '冀', '抗', '日', '根', '据', '地', '出', '版', '物', '签', '名', '盖', '章', '并', '榜', '书', '“', '奋', '斗', '”', '相', '赠', '；', '老', '红', '军', '王', '成', '汉', '上', '将', '为', '延', '安', '时', '期', '多', '种', '出', '版', '物', '签', '字', '；', '革', '命', '先', '烈', '张', '太', '雷', '之', '女', '、', '新', '四', '军', '老', '战', '士', '张', '西', '蕾', '老', '人', '在', '我', '们', '收', '藏', '的', '六', '十', '多', '年', '前', '出', '版', '的', '《', '北', '洋', '工', '学', '院', '校', '友', '录', '》', '张', '太', '雷', '烈', '士', '条', '目', '上', '题', '写', '“', '先', '父', '大', '人', '永', '垂', '不', '朽', '”', '。'], 'labels': [6, 6, 6, 2, 3, 6, 6, 0, 1, 6, 6, 6, 6, 6, 6, 6, 6, 6, 6, 6, 6, 6, 6, 6, 6, 6, 6, 6, 6, 6, 6, 6, 6, 6, 4, 5, 5, 5, 5, 5, 5, 5, 6, 6, 6, 6, 6, 6, 6, 6, 6, 6, 6, 6, 6, 6, 6, 6, 6, 6, 2, 3, 0, 1, 1, 6, 6, 6, 4, 5, 6, 6, 6, 6, 6, 6, 6, 6, 6, 6, 6, 6, 6, 6, 0, 1, 1, 6, 6, 6, 2, 3, 3, 6, 6, 6, 0, 1, 1, 6, 6, 6, 6, 6, 6, 6, 6, 6, 6, 6, 6, 6, 6, 6, 6, 6, 2, 3, 3, 3, 3, 6, 6, 6, 6, 0, 1, 1, 6, 6, 6, 6, 6, 6, 6, 6, 6, 6, 6, 6, 6, 6, 6, 6, 6, 6]}\n",
      "{'tokens': ['我', '们', '的', '藏', '品', '中', '有', '几', '十', '册', '为', '北', '京', '图', '书', '馆', '等', '国', '家', '级', '藏', '馆', '所', '未', '藏', '。'], 'labels': [6, 6, 6, 6, 6, 6, 6, 6, 6, 6, 6, 4, 5, 5, 5, 5, 6, 6, 6, 6, 6, 6, 6, 6, 6, 6]}\n",
      "{'tokens': ['由', '于', '这', '一', '时', '期', '战', '争', '频', '繁', '，', '条', '件', '艰', '苦', '，', '又', '遭', '国', '民', '党', '毁', '禁', '，', '传', '世', '量', '稀', '少', '，', '购', '藏', '不', '易', '。'], 'labels': [6, 6, 6, 6, 6, 6, 6, 6, 6, 6, 6, 6, 6, 6, 6, 6, 6, 6, 2, 3, 3, 6, 6, 6, 6, 6, 6, 6, 6, 6, 6, 6, 6, 6, 6]}\n",
      "{'tokens': ['尤', '以', '收', '录', '周', '恩', '来', '总', '理', '、', '马', '骏', '烈', '士', '的', '《', '南', '开', '中', '学', '同', '学', '录', '》', '（', '１', '９', '１', '９', '年', '）', '、', '李', '大', '钊', '烈', '士', '遗', '篇', '孤', '本', '《', '中', '国', '大', '学', '学', '术', '演', '讲', '录', '》', '（', '１', '９', '２', '３', '年', '）', '、', '黄', '埔', '军', '校', '政', '治', '宣', '传', '教', '材', '（', '１', '９', '２', '７', '年', '）', '、', '恽', '代', '英', '烈', '士', '译', '著', '《', '阶', '级', '争', '斗', '》', '（', '１', '９', '２', '６', '年', '）', '、', '党', '中', '央', '机', '关', '月', '刊', '《', '共', '产', '国', '际', '》', '（', '１', '９', '３', '０', '年', '）', '等', '为', '收', '藏', '界', '所', '称', '道', '。'], 'labels': [6, 6, 6, 6, 0, 1, 1, 6, 6, 6, 0, 1, 6, 6, 6, 6, 2, 3, 3, 3, 6, 6, 6, 6, 6, 6, 6, 6, 6, 6, 6, 6, 0, 1, 1, 6, 6, 6, 6, 6, 6, 6, 4, 5, 6, 6, 6, 6, 6, 6, 6, 6, 6, 6, 6, 6, 6, 6, 6, 6, 2, 3, 3, 3, 6, 6, 6, 6, 6, 6, 6, 6, 6, 6, 6, 6, 6, 6, 0, 1, 1, 6, 6, 6, 6, 6, 6, 6, 6, 6, 6, 6, 6, 6, 6, 6, 6, 6, 6, 2, 3, 3, 6, 6, 6, 6, 6, 2, 3, 3, 3, 6, 6, 6, 6, 6, 6, 6, 6, 6, 6, 6, 6, 6, 6, 6, 6, 6]}\n",
      "{'tokens': ['这', '两', '百', '余', '册', '革', '命', '历', '史', '文', '献', '完', '整', '地', '反', '映', '了', '从', '１', '９', '０', '８', '年', '到', '建', '国', '前', '马', '列', '主', '义', '在', '中', '国', '传', '播', '的', '历', '史', '。'], 'labels': [6, 6, 6, 6, 6, 6, 6, 6, 6, 6, 6, 6, 6, 6, 6, 6, 6, 6, 6, 6, 6, 6, 6, 6, 6, 6, 6, 0, 0, 6, 6, 6, 4, 5, 6, 6, 6, 6, 6, 6]}\n",
      "{'tokens': ['在', '我', '们', '的', '专', '题', '藏', '品', '中', '，', '有', '一', '类', '是', '建', '国', '前', '各', '解', '放', '区', '出', '版', '物', '和', '国', '统', '区', '查', '禁', '书', '刊', '及', '敌', '占', '区', '各', '类', '地', '下', '革', '命', '出', '版', '物', '。'], 'labels': [6, 6, 6, 6, 6, 6, 6, 6, 6, 6, 6, 6, 6, 6, 6, 6, 6, 6, 6, 6, 6, 6, 6, 6, 6, 2, 6, 6, 6, 6, 6, 6, 6, 6, 6, 6, 6, 6, 6, 6, 6, 6, 6, 6, 6, 6]}\n",
      "{'tokens': ['我', '们', '藏', '书', '的', '方', '法', '是', '：', '确', '立', '专', '题', '，', '人', '弃', '我', '取', '，', '集', '成', '系', '列', '，', '藏', '用', '结', '合', '。'], 'labels': [6, 6, 6, 6, 6, 6, 6, 6, 6, 6, 6, 6, 6, 6, 6, 6, 6, 6, 6, 6, 6, 6, 6, 6, 6, 6, 6, 6, 6]}\n",
      "{'tokens': ['其', '中', '线', '装', '古', '籍', '逾', '千', '册', '；', '民', '国', '出', '版', '物', '几', '百', '种', '；', '珍', '本', '四', '册', '、', '稀', '见', '本', '四', '百', '余', '册', '，', '出', '版', '时', '间', '跨', '越', '三', '百', '余', '年', '。'], 'labels': [6, 6, 6, 6, 6, 6, 6, 6, 6, 6, 6, 6, 6, 6, 6, 6, 6, 6, 6, 6, 6, 6, 6, 6, 6, 6, 6, 6, 6, 6, 6, 6, 6, 6, 6, 6, 6, 6, 6, 6, 6, 6, 6]}\n",
      "{'tokens': ['目', '前', '我', '们', '家', '庭', '藏', '书', '四', '千', '余', '册', '，', '加', '上', '报', '刊', '、', '画', '册', '可', '达', '一', '万', '册', '（', '份', '）', '。'], 'labels': [6, 6, 6, 6, 6, 6, 6, 6, 6, 6, 6, 6, 6, 6, 6, 6, 6, 6, 6, 6, 6, 6, 6, 6, 6, 6, 6, 6, 6]}\n",
      "{'tokens': ['婚', '后', '“', '两', '军', '会', '合', '”', '，', '书', '是', '最', '多', '的', '“', '战', '利', '品', '”', '。'], 'labels': [6, 6, 6, 6, 6, 6, 6, 6, 6, 6, 6, 6, 6, 6, 6, 6, 6, 6, 6, 6]}\n",
      "{'tokens': ['我', '们', '均', '从', '１', '９', '７', '４', '年', '开', '始', '购', '藏', '图', '书', '。'], 'labels': [6, 6, 6, 6, 6, 6, 6, 6, 6, 6, 6, 6, 6, 6, 6, 6]}\n",
      "{'tokens': ['当', '功', '名', '、', '钱', '财', '、', '育', '儿', '、', '下', '岗', '，', '为', '这', '代', '人', '敲', '打', '着', '不', '和', '谐', '的', '人', '生', '节', '拍', '时', '，', '藏', '书', '、', '读', '书', '、', '爱', '书', '却', '成', '为', '我', '俩', '共', '同', '生', '活', '的', '主', '旋', '律', '。'], 'labels': [6, 6, 6, 6, 6, 6, 6, 6, 6, 6, 6, 6, 6, 6, 6, 6, 6, 6, 6, 6, 6, 6, 6, 6, 6, 6, 6, 6, 6, 6, 6, 6, 6, 6, 6, 6, 6, 6, 6, 6, 6, 6, 6, 6, 6, 6, 6, 6, 6, 6, 6, 6]}\n",
      "{'tokens': ['我', '们', '夫', '妇', '俩', '是', '“', '文', '革', '”', '中', '失', '学', '的', '一', '代', '，', '插', '队', '、', '待', '业', '、', '学', '徒', '、', '高', '考', '，', '谱', '成', '了', '我', '们', '这', '一', '代', '人', '的', '青', '春', '韵', '律', '。'], 'labels': [6, 6, 6, 6, 6, 6, 6, 6, 6, 6, 6, 6, 6, 6, 6, 6, 6, 6, 6, 6, 6, 6, 6, 6, 6, 6, 6, 6, 6, 6, 6, 6, 6, 6, 6, 6, 6, 6, 6, 6, 6, 6, 6, 6]}\n",
      "{'tokens': ['说', '实', '话', '，', '如', '果', '不', '让', '我', '写', '，', '我', '则', '抗', '议', '，', '而', '要', '自', '告', '奋', '勇', '，', '锐', '身', '自', '任', '；', '既', '然', '学', '长', '不', '弃', '，', '自', '然', '欣', '然', '受', '命', '。'], 'labels': [6, 6, 6, 6, 6, 6, 6, 6, 6, 6, 6, 6, 6, 6, 6, 6, 6, 6, 6, 6, 6, 6, 6, 6, 6, 6, 6, 6, 6, 6, 6, 6, 6, 6, 6, 6, 6, 6, 6, 6, 6, 6]}\n",
      "{'tokens': ['这', '次', '他', '的', '诗', '书', '画', '集', '为', '一', '册', '，', '行', '将', '付', '梓', '，', '嘱', '我', '为', '序', '。'], 'labels': [6, 6, 6, 6, 6, 6, 6, 6, 6, 6, 6, 6, 6, 6, 6, 6, 6, 6, 6, 6, 6, 6]}\n",
      "{'tokens': ['国', '正', '先', '生', '在', '我', '心', '中', '就', '是', '这', '样', '的', '一', '位', '学', '长', '。'], 'labels': [0, 1, 6, 6, 6, 6, 6, 6, 6, 6, 6, 6, 6, 6, 6, 6, 6, 6]}\n",
      "{'tokens': ['得', '其', '兼', '者', '，', '则', '可', '敬', '亦', '复', '可', '亲', '可', '钦', '亦', '复', '可', '爱', '了', '。'], 'labels': [6, 6, 6, 6, 6, 6, 6, 6, 6, 6, 6, 6, 6, 6, 6, 6, 6, 6, 6, 6]}\n",
      "{'tokens': ['我', '想', '都', '好', '，', '但', '所', '指', '侧', '重', '不', '同', '，', '前', '者', '是', '指', '的', '其', '学', '其', '道', '，', '后', '者', '指', '的', '其', '品', '其', '行', '，', '前', '者', '可', '“', '敬', '”', '可', '“', '钦', '”', '，', '后', '者', '可', '“', '亲', '”', '可', '“', '爱', '”', '。'], 'labels': [6, 6, 6, 6, 6, 6, 6, 6, 6, 6, 6, 6, 6, 6, 6, 6, 6, 6, 6, 6, 6, 6, 6, 6, 6, 6, 6, 6, 6, 6, 6, 6, 6, 6, 6, 6, 6, 6, 6, 6, 6, 6, 6, 6, 6, 6, 6, 6, 6, 6, 6, 6, 6, 6]}\n",
      "{'tokens': ['论', '人', '美', '称', '，', '如', '“', '望', '之', '弥', '高', '”', '，', '“', '神', '龙', '见', '首', '而', '不', '见', '尾', '”', '，', '“', '清', '澈', '见', '底', '”', '，', '“', '坦', '荡', '无', '瑕', '”', '哪', '一', '种', '最', '好', '呢', '？'], 'labels': [6, 6, 6, 6, 6, 6, 6, 6, 6, 6, 6, 6, 6, 6, 6, 6, 6, 6, 6, 6, 6, 6, 6, 6, 6, 6, 6, 6, 6, 6, 6, 6, 6, 6, 6, 6, 6, 6, 6, 6, 6, 6, 6, 6]}\n",
      "{'tokens': ['还', '有', '茂', '林', '峻', '岭', '，', '高', '山', '流', '瀑', '，', '更', '见', '大', '匠', '之', '胸', '揽', '丘', '壑', '，', '意', '境', '遐', '思', '。'], 'labels': [6, 6, 6, 6, 6, 6, 6, 6, 6, 6, 6, 6, 6, 6, 6, 6, 6, 6, 6, 6, 6, 6, 6, 6, 6, 6, 6]}\n",
      "{'tokens': ['神', '与', '古', '人', '相', '通', '，', '意', '与', '画', '家', '相', '契', '，', '此', '恐', '是', '“', '写', '意', '”', '之', '真', '谛', '所', '在', '也', '，', '岂', '止', '是', '骋', '笔', '泼', '墨', '，', '摹', '略', '大', '概', '之', '谓', '也', '。'], 'labels': [6, 6, 6, 6, 6, 6, 6, 6, 6, 6, 6, 6, 6, 6, 6, 6, 6, 6, 6, 6, 6, 6, 6, 6, 6, 6, 6, 6, 6, 6, 6, 6, 6, 6, 6, 6, 6, 6, 6, 6, 6, 6, 6, 6]}\n",
      "{'tokens': ['有', '的', '古', '木', '交', '柯', '，', '春', '机', '荣', '欣', '，', '从', '诗', '人', '句', '中', '得', '之', '，', '而', '入', '画', '中', '，', '观', '之', '令', '人', '心', '驰', '。'], 'labels': [6, 6, 6, 6, 6, 6, 6, 6, 6, 6, 6, 6, 6, 6, 6, 6, 6, 6, 6, 6, 6, 6, 6, 6, 6, 6, 6, 6, 6, 6, 6, 6]}\n",
      "{'tokens': ['有', '的', '乍', '暖', '先', '春', '，', '明', '媚', '之', '至', '；', '有', '的', '老', '树', '正', '旺', '，', '新', '篁', '出', '笋', '；', '有', '的', '乔', '木', '参', '天', '，', '而', '初', '绿', '犹', '新', '，', '生', '意', '嫣', '然', '…', '…', '皆', '宋', '元', '娟', '秀', '，', '又', '蒙', '岭', '南', '泽', '润', '，', '观', '之', '令', '人', '神', '往', '。'], 'labels': [6, 6, 6, 6, 6, 6, 6, 6, 6, 6, 6, 6, 6, 6, 6, 6, 6, 6, 6, 6, 6, 6, 6, 6, 6, 6, 6, 6, 6, 6, 6, 6, 6, 6, 6, 6, 6, 6, 6, 6, 6, 6, 6, 6, 6, 6, 6, 6, 6, 6, 6, 4, 5, 6, 6, 6, 6, 6, 6, 6, 6, 6, 6]}\n",
      "{'tokens': ['诗', '与', '书', '，', '我', '自', '知', '不', '济', '，', '兄', '前', '不', '敢', '置', '喙', '，', '所', '以', '每', '当', '良', '聚', '，', '辄', '以', '近', '喜', '丹', '青', '为', '遁', '辞', '，', '殊', '不', '知', '兄', '实', '真', '人', '，', '素', '不', '露', '相', '，', '这', '次', '我', '才', '得', '到', '了', '亲', '瞻', '。'], 'labels': [6, 6, 6, 6, 6, 6, 6, 6, 6, 6, 6, 6, 6, 6, 6, 6, 6, 6, 6, 6, 6, 6, 6, 6, 6, 6, 6, 6, 6, 6, 6, 6, 6, 6, 6, 6, 6, 6, 6, 6, 6, 6, 6, 6, 6, 6, 6, 6, 6, 6, 6, 6, 6, 6, 6, 6, 6]}\n",
      "{'tokens': ['恕', '弟', '斗', '胆', '，', '不', '敢', '苟', '同', '，', '兄', '不', '过', '“', '善', '学', '”', '而', '“', '博', '”', '，', '“', '博', '”', '而', '“', '能', '精', '”', '而', '已', '矣', '。'], 'labels': [6, 6, 6, 6, 6, 6, 6, 6, 6, 6, 6, 6, 6, 6, 6, 6, 6, 6, 6, 6, 6, 6, 6, 6, 6, 6, 6, 6, 6, 6, 6, 6, 6, 6]}\n",
      "{'tokens': ['是', '以', '，', '兄', '以', '“', '非', '汉', '非', '唐', '”', '为', '揖', '让', '，', '难', '道', '意', '在', '以', '“', '生', '而', '知', '之', '”', '者', '的', '“', '大', '智', '”', '而', '自', '许', '耶', '？'], 'labels': [6, 6, 6, 6, 6, 6, 6, 6, 6, 6, 6, 6, 6, 6, 6, 6, 6, 6, 6, 6, 6, 6, 6, 6, 6, 6, 6, 6, 6, 6, 6, 6, 6, 6, 6, 6, 6]}\n",
      "{'tokens': ['韵', '致', '惟', '无', '清', '代', '所', '趋', '，', '倒', '有', '少', '许', '“', '五', '四', '”', '时', '期', '宿', '儒', '的', '品', '味', '。'], 'labels': [6, 6, 6, 6, 6, 6, 6, 6, 6, 6, 6, 6, 6, 6, 6, 6, 6, 6, 6, 6, 6, 6, 6, 6, 6]}\n",
      "{'tokens': ['不', '过', '重', '在', '晋', '趣', '，', '略', '增', '明', '人', '气', '息', '，', '妙', '在', '集', '古', '有', '道', '、', '不', '露', '痕', '迹', '罢', '了', '。'], 'labels': [6, 6, 6, 6, 6, 6, 6, 6, 6, 6, 6, 6, 6, 6, 6, 6, 6, 6, 6, 6, 6, 6, 6, 6, 6, 6, 6, 6]}\n",
      "{'tokens': ['在', '这', '里', '恕', '弟', '不', '恭', '之', '罪', '，', '敢', '在', '尊', '前', '一', '诤', '：', '前', '人', '论', '书', '，', '每', '曰', '“', '字', '字', '有', '来', '历', '，', '笔', '笔', '有', '出', '处', '”', '，', '细', '读', '公', '字', '，', '何', '尝', '跳', '出', '前', '人', '藩', '篱', '，', '自', '隶', '变', '而', '后', '，', '直', '至', '明', '季', '，', '兄', '有', '何', '新', '出', '？'], 'labels': [6, 6, 6, 6, 6, 6, 6, 6, 6, 6, 6, 6, 6, 6, 6, 6, 6, 6, 6, 6, 6, 6, 6, 6, 6, 6, 6, 6, 6, 6, 6, 6, 6, 6, 6, 6, 6, 6, 6, 6, 6, 6, 6, 6, 6, 6, 6, 6, 6, 6, 6, 6, 6, 6, 6, 6, 6, 6, 6, 6, 6, 6, 6, 6, 6, 6, 6, 6, 6]}\n",
      "{'tokens': ['其', '实', '非', '汉', '非', '唐', '，', '又', '是', '什', '么', '与', '什', '么', '呢', '？'], 'labels': [6, 6, 6, 6, 6, 6, 6, 6, 6, 6, 6, 6, 6, 6, 6, 6]}\n",
      "{'tokens': ['学', '长', '每', '每', '自', '逊', '“', '非', '汉', '非', '唐', '”', '，', '足', '见', '所', '求', '高', '远', '。'], 'labels': [6, 6, 6, 6, 6, 6, 6, 6, 6, 6, 6, 6, 6, 6, 6, 6, 6, 6, 6, 6]}\n",
      "{'tokens': ['能', '书', '入', '法', '，', '原', '是', '诗', '人', '学', '者', '本', '色', '，', '不', '值', '啧', '啧', '称', '道', '。'], 'labels': [6, 6, 6, 6, 6, 6, 6, 6, 6, 6, 6, 6, 6, 6, 6, 6, 6, 6, 6, 6, 6]}\n",
      "{'tokens': ['如', '果', '用', '“', '书', '家', '”', '的', '桂', '冠', '相', '奉', '，', '我', '则', '以', '为', '是', '对', '学', '长', '的', '一', '种', '不', '敬', '。'], 'labels': [6, 6, 6, 6, 6, 6, 6, 6, 6, 6, 6, 6, 6, 6, 6, 6, 6, 6, 6, 6, 6, 6, 6, 6, 6, 6, 6]}\n",
      "{'tokens': ['每', '得', '学', '长', '来', '札', '，', '自', '然', '新', '作', '获', '读', '，', '喜', '出', '望', '外', '者', '却', '是', '学', '长', '法', '书', '的', '使', '转', '如', '章', '，', '翰', '采', '盈', '馨', '，', '字', '上', '没', '有', '时', '尚', '书', '家', '的', '驰', '骋', '积', '习', '，', '没', '有', '刻', '意', '雕', '琢', '的', '旧', '馆', '绳', '墨', '，', '读', '来', '只', '觉', '字', '如', '其', '文', '，', '书', '如', '其', '诗', '。'], 'labels': [6, 6, 6, 6, 6, 6, 6, 6, 6, 6, 6, 6, 6, 6, 6, 6, 6, 6, 6, 6, 6, 6, 6, 6, 6, 6, 6, 6, 6, 6, 6, 6, 6, 6, 6, 6, 6, 6, 6, 6, 6, 6, 6, 6, 6, 6, 6, 6, 6, 6, 6, 6, 6, 6, 6, 6, 6, 6, 6, 6, 6, 6, 6, 6, 6, 6, 6, 6, 6, 6, 6, 6, 6, 6, 6, 6]}\n",
      "{'tokens': ['本', '来', '嘛', '，', '学', '长', '先', '入', '辅', '仁', '，', '学', '弟', '亦', '先', '入', '辅', '仁', '；', '学', '长', '再', '入', '北', '大', '，', '学', '弟', '亦', '再', '入', '北', '大', '，', '弟', '从', '兄', '一', '步', '一', '趋', '，', '说', '是', '老', '同', '学', '、', '老', '学', '长', '，', '“', '良', '有', '以', '也', '”', '。'], 'labels': [6, 6, 6, 6, 6, 6, 6, 6, 2, 3, 6, 6, 6, 6, 6, 6, 2, 3, 6, 6, 6, 6, 6, 2, 3, 6, 6, 6, 6, 6, 6, 2, 3, 6, 6, 6, 6, 6, 6, 6, 6, 6, 6, 6, 6, 6, 6, 6, 6, 6, 6, 6, 6, 6, 6, 6, 6, 6, 6]}\n",
      "{'tokens': ['把', '晤', '之', '后', '，', '绝', '无', '初', '识', '的', '感', '觉', '，', '即', '所', '谓', '早', '如', '多', '年', '故', '人', '。'], 'labels': [6, 6, 6, 6, 6, 6, 6, 6, 6, 6, 6, 6, 6, 6, 6, 6, 6, 6, 6, 6, 6, 6, 6]}\n",
      "{'tokens': ['缓', '缓', '读', '来', '，', '只', '觉', '淡', '雅', '，', '稍', '经', '品', '味', '，', '乃', '知', '境', '幽', '意', '邃', '，', '细', '加', '咀', '嚼', '，', '才', '开', '始', '感', '到', '春', '风', '之', '温', '馨', '，', '甘', '雨', '之', '滋', '泽', '，', '时', '而', '泛', '来', '一', '种', '爱', '慕', '，', '时', '而', '升', '起', '一', '种', '敬', '仰', '，', '敬', '与', '爱', '交', '织', '在', '了', '一', '起', '。'], 'labels': [6, 6, 6, 6, 6, 6, 6, 6, 6, 6, 6, 6, 6, 6, 6, 6, 6, 6, 6, 6, 6, 6, 6, 6, 6, 6, 6, 6, 6, 6, 6, 6, 6, 6, 6, 6, 6, 6, 6, 6, 6, 6, 6, 6, 6, 6, 6, 6, 6, 6, 6, 6, 6, 6, 6, 6, 6, 6, 6, 6, 6, 6, 6, 6, 6, 6, 6, 6, 6, 6, 6, 6]}\n",
      "{'tokens': ['喜', '欢', '她', '没', '有', '显', '达', '者', '的', '洋', '洋', '意', '态', '，', '没', '有', '卫', '道', '之', '士', '的', '庄', '严', '神', '圣', '，', '没', '有', '斯', '文', '先', '生', '的', '迂', '阔', '酸', '腐', '，', '没', '有', '攀', '高', '进', '身', '的', '趋', '阿', '奉', '媚', '。'], 'labels': [6, 6, 6, 6, 6, 6, 6, 6, 6, 6, 6, 6, 6, 6, 6, 6, 6, 6, 6, 6, 6, 6, 6, 6, 6, 6, 6, 6, 6, 6, 6, 6, 6, 6, 6, 6, 6, 6, 6, 6, 6, 6, 6, 6, 6, 6, 6, 6, 6, 6]}\n",
      "{'tokens': ['国', '正', '学', '长', '的', '文', '章', '与', '诗', '词', '，', '早', '就', '读', '过', '一', '些', '，', '很', '是', '喜', '欢', '。'], 'labels': [0, 1, 6, 6, 6, 6, 6, 6, 6, 6, 6, 6, 6, 6, 6, 6, 6, 6, 6, 6, 6, 6, 6]}\n",
      "{'tokens': ['我', '与', '国', '正', '学', '长', '，', '竟', '就', '是', '这', '一', '种', '，', '实', '在', '是', '难', '得', '，', '难', '得', '！'], 'labels': [6, 6, 0, 1, 6, 6, 6, 6, 6, 6, 6, 6, 6, 6, 6, 6, 6, 6, 6, 6, 6, 6, 6]}\n",
      "{'tokens': ['有', '的', '人', '朝', '夕', '相', '处', '，', '而', '形', '同', '陌', '路', '；', '有', '的', '人', '共', '事', '二', '三', '十', '年', '，', '一', '旦', '分', '手', '，', '却', '再', '也', '不', '复', '记', '忆', '；', '当', '然', '也', '的', '确', '有', '人', '“', '一', '见', '如', '故', '”', '；', '而', '最', '难', '得', '的', '则', '是', '“', '未', '见', '如', '故', '”', '。'], 'labels': [6, 6, 6, 6, 6, 6, 6, 6, 6, 6, 6, 6, 6, 6, 6, 6, 6, 6, 6, 6, 6, 6, 6, 6, 6, 6, 6, 6, 6, 6, 6, 6, 6, 6, 6, 6, 6, 6, 6, 6, 6, 6, 6, 6, 6, 6, 6, 6, 6, 6, 6, 6, 6, 6, 6, 6, 6, 6, 6, 6, 6, 6, 6, 6, 6]}\n",
      "{'tokens': ['人', '与', '人', '的', '缘', '分', '，', '常', '常', '是', '一', '句', '话', '说', '不', '清', '楚', '的', '。'], 'labels': [6, 6, 6, 6, 6, 6, 6, 6, 6, 6, 6, 6, 6, 6, 6, 6, 6, 6, 6]}\n",
      "{'tokens': ['慕', '名', '前', '来', '品', '尝', '玉', '峰', '茶', '，', '领', '略', '茶', '文', '化', '的', '人', '越', '来', '越', '多', '。'], 'labels': [6, 6, 6, 6, 6, 6, 4, 5, 6, 6, 6, 6, 6, 6, 6, 6, 6, 6, 6, 6, 6, 6]}\n",
      "{'tokens': ['陈', '老', '师', '还', '特', '别', '提', '到', '，', '学', '校', '早', '已', '搬', '进', '新', '盖', '的', '教', '学', '大', '楼', '，', '那', '座', '后', '来', '荒', '废', '了', '的', '茶', '馆', '又', '恢', '复', '了', '昔', '日', '的', '风', '采', '，', '而', '且', '比', '原', '来', '更', '气', '派', '，', '更', '富', '有', '文', '化', '韵', '味', '。'], 'labels': [0, 6, 6, 6, 6, 6, 6, 6, 6, 6, 6, 6, 6, 6, 6, 6, 6, 6, 6, 6, 6, 6, 6, 6, 6, 6, 6, 6, 6, 6, 6, 6, 6, 6, 6, 6, 6, 6, 6, 6, 6, 6, 6, 6, 6, 6, 6, 6, 6, 6, 6, 6, 6, 6, 6, 6, 6, 6, 6, 6]}\n",
      "{'tokens': ['从', '老', '师', '的', '来', '信', '中', '得', '知', '，', '党', '的', '十', '一', '届', '三', '中', '全', '会', '后', '，', '玉', '峰', '山', '荒', '山', '承', '包', '，', '昔', '日', '的', '茶', '园', '又', '恢', '复', '起', '来', '，', '玉', '峰', '茶', '又', '声', '名', '远', '播', '，', '茶', '农', '都', '靠', '种', '茶', '致', '富', '了', '。'], 'labels': [6, 6, 6, 6, 6, 6, 6, 6, 6, 6, 6, 6, 6, 6, 6, 6, 6, 6, 6, 6, 6, 4, 5, 5, 6, 6, 6, 6, 6, 6, 6, 6, 6, 6, 6, 6, 6, 6, 6, 6, 4, 5, 6, 6, 6, 6, 6, 6, 6, 6, 6, 6, 6, 6, 6, 6, 6, 6, 6]}\n",
      "{'tokens': ['一', '年', '后', '，', '我', '初', '中', '还', '没', '毕', '业', '就', '参', '军', '了', '，', '从', '此', '浪', '迹', '天', '涯', '，', '很', '少', '有', '机', '会', '回', '故', '乡', '，', '但', '无', '论', '我', '走', '到', '哪', '里', '，', '每', '年', '清', '明', '节', '后', '，', '都', '会', '收', '到', '陈', '老', '师', '寄', '来', '的', '玉', '峰', '茶', '。'], 'labels': [6, 6, 6, 6, 6, 6, 6, 6, 6, 6, 6, 6, 6, 6, 6, 6, 6, 6, 6, 6, 6, 6, 6, 6, 6, 6, 6, 6, 6, 6, 6, 6, 6, 6, 6, 6, 6, 6, 6, 6, 6, 6, 6, 6, 6, 6, 6, 6, 6, 6, 6, 6, 0, 6, 6, 6, 6, 6, 4, 5, 6, 6]}\n",
      "{'tokens': ['偏', '僻', '山', '乡', '建', '新', '校', '困', '难', '，', '茶', '馆', '又', '成', '了', '我', '们', '的', '教', '室', '。'], 'labels': [6, 6, 6, 6, 6, 6, 6, 6, 6, 6, 6, 6, 6, 6, 6, 6, 6, 6, 6, 6, 6]}\n",
      "{'tokens': ['１', '９', '６', '７', '年', '，', '我', '们', '当', '教', '室', '的', '那', '座', '破', '庙', '在', '一', '个', '暴', '风', '雨', '的', '上', '午', '倾', '塌', '了', '。'], 'labels': [6, 6, 6, 6, 6, 6, 6, 6, 6, 6, 6, 6, 6, 6, 6, 6, 6, 6, 6, 6, 6, 6, 6, 6, 6, 6, 6, 6, 6]}\n",
      "{'tokens': ['“', '文', '化', '大', '革', '命', '”', '中', '，', '茶', '馆', '作', '为', '“', '四', '旧', '”', '、', '“', '传', '播', '封', '、', '资', '、', '修', '的', '场', '所', '”', '被', '关', '闭', '了', '。'], 'labels': [6, 6, 6, 6, 6, 6, 6, 6, 6, 6, 6, 6, 6, 6, 6, 6, 6, 6, 6, 6, 6, 6, 6, 6, 6, 6, 6, 6, 6, 6, 6, 6, 6, 6, 6]}\n",
      "{'tokens': ['抗', '战', '胜', '利', '后', '，', '教', '授', '们', '陆', '续', '离', '开', '了', '这', '偏', '僻', '的', '山', '乡', '，', '昔', '日', '充', '满', '文', '化', '韵', '味', '的', '茶', '馆', '也', '逐', '渐', '冷', '落', '下', '来', '。'], 'labels': [6, 6, 6, 6, 6, 6, 6, 6, 6, 6, 6, 6, 6, 6, 6, 6, 6, 6, 6, 6, 6, 6, 6, 6, 6, 6, 6, 6, 6, 6, 6, 6, 6, 6, 6, 6, 6, 6, 6, 6]}\n",
      "{'tokens': ['想', '来', '他', '的', '《', '雅', '舍', '小', '品', '》', '中', '关', '于', '茶', '的', '描', '写', '或', '许', '就', '是', '受', '玉', '峰', '茶', '的', '启', '发', '，', '才', '使', '文', '章', '那', '么', '有', '灵', '性', '。'], 'labels': [6, 6, 6, 6, 6, 6, 6, 6, 6, 6, 6, 6, 6, 6, 6, 6, 6, 6, 6, 6, 6, 6, 4, 5, 6, 6, 6, 6, 6, 6, 6, 6, 6, 6, 6, 6, 6, 6, 6]}\n",
      "{'tokens': ['据', '说', '应', '老', '友', '之', '邀', '，', '梁', '实', '秋', '还', '坐', '着', '滑', '竿', '来', '此', '品', '过', '玉', '峰', '茶', '。'], 'labels': [6, 6, 6, 6, 6, 6, 6, 6, 0, 1, 1, 6, 6, 6, 6, 6, 6, 6, 6, 6, 4, 5, 6, 6]}\n",
      "{'tokens': ['抗', '战', '八', '年', '中', '，', '有', '好', '几', '位', '教', '授', '在', '这', '里', '写', '出', '了', '好', '文', '章', '。'], 'labels': [6, 6, 6, 6, 6, 6, 6, 6, 6, 6, 6, 6, 6, 6, 6, 6, 6, 6, 6, 6, 6, 6]}\n",
      "{'tokens': ['品', '茗', '之', '余', '，', '还', '可', '临', '窗', '垂', '钓', '，', '钓', '来', '楼', '下', '深', '潭', '中', '的', '鲤', '鱼', '，', '交', '给', '茶', '馆', '中', '的', '师', '傅', '做', '成', '“', '河', '水', '煮', '河', '鱼', '”', '的', '美', '味', '。'], 'labels': [6, 6, 6, 6, 6, 6, 6, 6, 6, 6, 6, 6, 6, 6, 6, 6, 6, 6, 6, 6, 6, 6, 6, 6, 6, 6, 6, 6, 6, 6, 6, 6, 6, 6, 6, 6, 6, 6, 6, 6, 6, 6, 6, 6]}\n",
      "{'tokens': ['迎', '门', '的', '墙', '上', '，', '还', '有', '一', '幅', '笔', '力', '遒', '劲', '的', '条', '幅', '：', '“', '泉', '香', '好', '解', '相', '如', '渴', '，', '火', '候', '闲', '评', '坡', '老', '诗', '”', '，', '使', '这', '座', '简', '陋', '的', '茶', '馆', '充', '满', '了', '文', '化', '气', '氛', '。'], 'labels': [6, 6, 6, 6, 6, 6, 6, 6, 6, 6, 6, 6, 6, 6, 6, 6, 6, 6, 6, 6, 6, 6, 6, 6, 6, 6, 6, 6, 6, 6, 6, 6, 6, 6, 6, 6, 6, 6, 6, 6, 6, 6, 6, 6, 6, 6, 6, 6, 6, 6, 6, 6]}\n",
      "{'tokens': ['茶', '馆', '大', '门', '口', '有', '一', '副', '对', '联', '，', '上', '联', '是', '“', '采', '向', '雨', '前', '、', '烹', '宜', '竹', '里', '”', '，', '下', '联', '是', '“', '经', '翻', '陆', '羽', '、', '歌', '记', '卢', '仝', '”', '。'], 'labels': [6, 6, 6, 6, 6, 6, 6, 6, 6, 6, 6, 6, 6, 6, 6, 6, 6, 6, 6, 6, 6, 6, 6, 6, 6, 6, 6, 6, 6, 6, 6, 6, 0, 1, 6, 6, 6, 0, 1, 6, 6]}\n",
      "{'tokens': ['再', '远', '处', '玉', '峰', '山', '上', '茶', '林', '片', '片', '，', '竹', '海', '林', '涛', '，', '乡', '野', '风', '光', '令', '人', '陶', '醉', '。'], 'labels': [6, 6, 6, 4, 5, 5, 6, 6, 6, 6, 6, 6, 6, 6, 6, 6, 6, 6, 6, 6, 6, 6, 6, 6, 6, 6]}\n",
      "{'tokens': ['河', '对', '面', '阡', '陌', '纵', '横', '，', '稻', '花', '飘', '香', '，', '牧', '笛', '悠', '悠', '。'], 'labels': [6, 6, 6, 6, 6, 6, 6, 6, 6, 6, 6, 6, 6, 6, 6, 6, 6, 6]}\n",
      "{'tokens': ['几', '株', '数', '人', '才', '能', '合', '抱', '的', '大', '榕', '树', '挡', '住', '了', '烈', '日', '，', '树', '下', '凉', '风', '拂', '面', '。'], 'labels': [6, 6, 6, 6, 6, 6, 6, 6, 6, 6, 6, 6, 6, 6, 6, 6, 6, 6, 6, 6, 6, 6, 6, 6, 6]}\n",
      "{'tokens': ['烈', '日', '炎', '炎', '的', '盛', '夏', '，', '茶', '馆', '周', '围', '竹', '林', '森', '森', '，', '清', '新', '袭', '人', '。'], 'labels': [6, 6, 6, 6, 6, 6, 6, 6, 6, 6, 6, 6, 6, 6, 6, 6, 6, 6, 6, 6, 6, 6]}\n",
      "{'tokens': ['吊', '脚', '楼', '茶', '馆', '，', '坐', '落', '在', '栋', '梁', '河', '边', '的', '悬', '崖', '上', '。'], 'labels': [6, 6, 6, 6, 6, 6, 6, 6, 6, 4, 5, 5, 6, 6, 6, 6, 6, 6]}\n",
      "{'tokens': ['从', '那', '以', '后', '我', '才', '知', '道', '玉', '峰', '茶', '有', '这', '么', '大', '的', '名', '气', '，', '家', '乡', '的', '吊', '脚', '楼', '茶', '馆', '还', '和', '这', '么', '多', '名', '人', '有', '关', '系', '。'], 'labels': [6, 6, 6, 6, 6, 6, 6, 6, 4, 5, 6, 6, 6, 6, 6, 6, 6, 6, 6, 6, 6, 6, 6, 6, 6, 6, 6, 6, 6, 6, 6, 6, 6, 6, 6, 6, 6, 6]}\n",
      "{'tokens': ['老', '教', '授', '说', '，', '不', '光', '他', '自', '己', '喜', '欢', '玉', '峰', '茶', '，', '还', '要', '经', '常', '给', '在', '外', '国', '的', '老', '教', '授', '寄', '去', '。'], 'labels': [6, 6, 6, 6, 6, 6, 6, 6, 6, 6, 6, 6, 4, 5, 6, 6, 6, 6, 6, 6, 6, 6, 6, 6, 6, 6, 6, 6, 6, 6, 6]}\n",
      "{'tokens': ['从', '那', '以', '后', '，', '我', '和', '妈', '妈', '经', '常', '给', '他', '送', '茶', '去', '。'], 'labels': [6, 6, 6, 6, 6, 6, 6, 6, 6, 6, 6, 6, 6, 6, 6, 6, 6]}\n",
      "{'tokens': ['我', '虽', '然', '听', '不', '大', '懂', '老', '教', '授', '的', '话', '，', '但', '我', '已', '体', '会', '到', '了', '他', '对', '我', '家', '乡', '的', '热', '爱', '。'], 'labels': [6, 6, 6, 6, 6, 6, 6, 6, 6, 6, 6, 6, 6, 6, 6, 6, 6, 6, 6, 6, 6, 6, 6, 6, 6, 6, 6, 6, 6]}\n",
      "{'tokens': ['他', '还', '记', '得', '玉', '峰', '山', '下', '的', '栋', '梁', '河', '边', '那', '座', '吊', '脚', '楼', '茶', '馆', '。'], 'labels': [6, 6, 6, 6, 4, 5, 5, 6, 6, 4, 5, 5, 6, 6, 6, 6, 6, 6, 6, 6, 6]}\n",
      "{'tokens': ['当', '时', '交', '通', '困', '难', '，', '物', '资', '短', '缺', '，', '是', '那', '清', '香', '的', '玉', '峰', '茶', '，', '伴', '随', '着', '他', '们', '度', '过', '了', '抗', '战', '的', '艰', '难', '岁', '月', '。'], 'labels': [6, 6, 6, 6, 6, 6, 6, 6, 6, 6, 6, 6, 6, 6, 6, 6, 6, 4, 5, 6, 6, 6, 6, 6, 6, 6, 6, 6, 6, 6, 6, 6, 6, 6, 6, 6, 6]}\n",
      "{'tokens': ['抗', '战', '时', '期', '，', '为', '躲', '避', '日', '机', '轰', '炸', '，', '他', '所', '在', '的', '大', '学', '疏', '散', '到', '了', '乡', '下', '，', '就', '是', '出', '产', '玉', '峰', '茶', '的', '地', '方', '。'], 'labels': [6, 6, 6, 6, 6, 6, 6, 6, 4, 6, 6, 6, 6, 6, 6, 6, 6, 6, 6, 6, 6, 6, 6, 6, 6, 6, 6, 6, 6, 6, 4, 5, 6, 6, 6, 6, 6]}\n",
      "{'tokens': ['老', '师', '告', '诉', '我', '们', '，', '他', '是', '学', '校', '的', '教', '授', '。'], 'labels': [6, 6, 6, 6, 6, 6, 6, 6, 6, 6, 6, 6, 6, 6, 6]}\n",
      "{'tokens': ['没', '等', '妈', '妈', '说', '完', '，', '老', '人', '又', '说', '：', '“', '换', '粮', '食', '，', '要', '得', '，', '要', '得', '！'], 'labels': [6, 6, 6, 6, 6, 6, 6, 6, 6, 6, 6, 6, 6, 6, 6, 6, 6, 6, 6, 6, 6, 6, 6]}\n",
      "{'tokens': ['”', '他', '正', '准', '备', '掏', '钱', '，', '妈', '妈', '轻', '声', '说', '：', '“', '老', '师', '，', '这', '茶', '不', '卖', '，', '我', '们', '要', '换', '粮', '食', '的', '…', '…', '”', '正', '当', '我', '们', '又', '累', '又', '饿', '近', '于', '绝', '望', '之', '际', '，', '一', '位', '戴', '着', '深', '度', '近', '视', '眼', '镜', '，', '头', '上', '扣', '着', '一', '顶', '小', '绒', '帽', '，', '拄', '着', '拐', '杖', '的', '老', '人', '来', '到', '我', '们', '的', '背', '篓', '前', '。'], 'labels': [6, 6, 6, 6, 6, 6, 6, 6, 6, 6, 6, 6, 6, 6, 6, 6, 6, 6, 6, 6, 6, 6, 6, 6, 6, 6, 6, 6, 6, 6, 6, 6, 6, 6, 6, 6, 6, 6, 6, 6, 6, 6, 6, 6, 6, 6, 6, 6, 6, 6, 6, 6, 6, 6, 6, 6, 6, 6, 6, 6, 6, 6, 6, 6, 6, 6, 6, 6, 6, 6, 6, 6, 6, 6, 6, 6, 6, 6, 6, 6, 6, 6, 6, 6, 6]}\n",
      "{'tokens': ['灾', '荒', '年', '月', '，', '人', '们', '哪', '还', '有', '品', '茶', '的', '雅', '兴', '，', '更', '没', '有', '余', '粮', '来', '换', '茶', '叶', '。'], 'labels': [6, 6, 6, 6, 6, 6, 6, 6, 6, 6, 6, 6, 6, 6, 6, 6, 6, 6, 6, 6, 6, 6, 6, 6, 6, 6]}\n",
      "{'tokens': ['在', '大', '街', '小', '巷', '转', '了', '一', '天', '，', '却', '无', '人', '问', '津', '。'], 'labels': [6, 6, 6, 6, 6, 6, 6, 6, 6, 6, 6, 6, 6, 6, 6, 6]}\n",
      "{'tokens': ['初', '春', '的', '一', '天', '，', '我', '和', '妈', '妈', '背', '着', '精', '心', '炮', '制', '的', '玉', '峰', '茶', '，', '到', '重', '庆', '去', '换', '粮', '食', '度', '饥', '荒', '。'], 'labels': [6, 6, 6, 6, 6, 6, 6, 6, 6, 6, 6, 6, 6, 6, 6, 6, 6, 4, 5, 6, 6, 6, 4, 5, 6, 6, 6, 6, 6, 6, 6, 6]}\n",
      "{'tokens': ['在', '京', '城', '畅', '饮', '故', '乡', '名', '茶', '，', '一', '缕', '乡', '愁', '随', '香', '气', '溢', '出', '，', '一', '怀', '往', '事', '随', '茶', '而', '至', '，', '细', '细', '品', '来', '，', '又', '仿', '佛', '品', '出', '了', '人', '生', '的', '酸', '甜', '苦', '辣', '…', '…', '啜', '入', '口', '中', '，', '顿', '觉', '神', '清', '气', '爽', '，', '拂', '去', '尘', '世', '落', '寞', '。'], 'labels': [6, 4, 5, 6, 6, 6, 6, 6, 6, 6, 6, 6, 6, 6, 6, 6, 6, 6, 6, 6, 6, 6, 6, 6, 6, 6, 6, 6, 6, 6, 6, 6, 6, 6, 6, 6, 6, 6, 6, 6, 6, 6, 6, 6, 6, 6, 6, 6, 6, 6, 6, 6, 6, 6, 6, 6, 6, 6, 6, 6, 6, 6, 6, 6, 6, 6, 6, 6]}\n"
     ]
    }
   ],
   "source": [
    "for i in range(100):\n",
    "    print(train_ds[i])"
   ]
  },
  {
   "cell_type": "markdown",
   "metadata": {
    "collapsed": false
   },
   "source": [
    "每条数据包含一句文本和这个文本中每个汉字以及数字对应的label标签。\n",
    "\n",
    "之后，还需要对输入句子进行数据处理，如切词，映射词表id等。"
   ]
  },
  {
   "cell_type": "markdown",
   "metadata": {
    "collapsed": false
   },
   "source": [
    "## 数据处理\n",
    "\n",
    "预训练模型ERNIE对中文数据的处理是以字为单位。PaddleNLP对于各种预训练模型已经内置了相应的tokenizer。指定想要使用的模型名字即可加载对应的tokenizer。\n",
    "\n",
    "tokenizer作用为将原始输入文本转化成模型model可以接受的输入数据形式。\n",
    "\n",
    "\n",
    "<p align=\"center\">\n",
    "<img src=\"https://bj.bcebos.com/paddlehub/paddlehub-img/ernie_network_1.png\" hspace='10'/> <br />\n",
    "</p>\n",
    "\n",
    "\n",
    "<p align=\"center\">\n",
    "<img src=\"https://bj.bcebos.com/paddlehub/paddlehub-img/ernie_network_2.png\" hspace='10'/> <br />\n",
    "</p>\n",
    "<br><center>图3：ERNIE模型示意图</center></br>"
   ]
  },
  {
   "cell_type": "code",
   "execution_count": 16,
   "metadata": {
    "collapsed": false
   },
   "outputs": [
    {
     "name": "stderr",
     "output_type": "stream",
     "text": [
      "[2021-06-15 20:43:23,534] [    INFO] - Found /home/aistudio/.paddlenlp/models/bert-base-chinese/bert-base-chinese-vocab.txt\n"
     ]
    },
    {
     "name": "stdout",
     "output_type": "stream",
     "text": [
      "([101, 2496, 2361, 3307, 2339, 4923, 3131, 1221, 4638, 4636, 674, 1036, 4997, 2768, 7270, 6629, 3341, 8024, 4906, 3136, 1069, 1744, 5917, 4197, 2768, 7599, 3198, 8024, 791, 1921, 3300, 3119, 5966, 817, 966, 4638, 741, 872, 3766, 743, 8024, 3209, 3189, 2218, 1373, 872, 2637, 679, 2496, 1159, 8013, 102], [0, 0, 0, 0, 0, 0, 0, 0, 0, 0, 0, 0, 0, 0, 0, 0, 0, 0, 0, 0, 0, 0, 0, 0, 0, 0, 0, 0, 0, 0, 0, 0, 0, 0, 0, 0, 0, 0, 0, 0, 0, 0, 0, 0, 0, 0, 0, 0, 0, 0, 0, 0], 52, [6, 6, 6, 6, 6, 6, 6, 6, 6, 6, 6, 6, 6, 6, 6, 6, 6, 6, 6, 6, 6, 6, 6, 6, 6, 6, 6, 6, 6, 6, 6, 6, 6, 6, 6, 6, 6, 6, 6, 6, 6, 6, 6, 6, 6, 6, 6, 6, 6, 6, 6, 6])\n"
     ]
    }
   ],
   "source": [
    "tokenizer = BertTokenizer.from_pretrained('bert-base-chinese')\n",
    "\n",
    "trans_func = partial(convert_example, tokenizer=tokenizer, label_vocab=label_vocab)\n",
    "\n",
    "train_ds.map(trans_func)\n",
    "dev_ds.map(trans_func)\n",
    "test_ds.map(trans_func)\n",
    "print (train_ds[0])"
   ]
  },
  {
   "cell_type": "markdown",
   "metadata": {
    "collapsed": false
   },
   "source": [
    "### 数据读入\n",
    "\n",
    "使用`paddle.io.DataLoader`接口多线程异步加载数据。"
   ]
  },
  {
   "cell_type": "code",
   "execution_count": 17,
   "metadata": {
    "collapsed": false
   },
   "outputs": [],
   "source": [
    "ignore_label = -1\n",
    "batchify_fn = lambda samples, fn=Tuple(\n",
    "    Pad(axis=0, pad_val=tokenizer.pad_token_id),  # input_ids\n",
    "    Pad(axis=0, pad_val=tokenizer.pad_token_type_id),  # token_type_ids\n",
    "    Stack(),  # seq_len\n",
    "    Pad(axis=0, pad_val=ignore_label)  # labels\n",
    "): fn(samples)\n",
    "\n",
    "train_loader = paddle.io.DataLoader(\n",
    "    dataset=train_ds,\n",
    "    batch_size=36,\n",
    "    return_list=True,\n",
    "    collate_fn=batchify_fn)\n",
    "dev_loader = paddle.io.DataLoader(\n",
    "    dataset=dev_ds,\n",
    "    batch_size=36,\n",
    "    return_list=True,\n",
    "    collate_fn=batchify_fn)\n",
    "test_loader = paddle.io.DataLoader(\n",
    "    dataset=test_ds,\n",
    "    batch_size=36,\n",
    "    return_list=True,\n",
    "    collate_fn=batchify_fn)"
   ]
  },
  {
   "cell_type": "markdown",
   "metadata": {
    "collapsed": false
   },
   "source": [
    "## PaddleNLP一键加载预训练模型\n",
    "\n",
    "\n",
    "快递单信息抽取本质是一个序列标注任务，PaddleNLP对于各种预训练模型已经内置了对于下游任务文本分类Fine-tune网络。以下教程以ERNIE为预训练模型完成序列标注任务。\n",
    "\n",
    "`paddlenlp.transformers.ErnieForTokenClassification()`一行代码即可加载预训练模型ERNIE用于序列标注任务的fine-tune网络。其在ERNIE模型后拼接上一个全连接网络进行分类。\n",
    "\n",
    "`paddlenlp.transformers.ErnieForTokenClassification.from_pretrained()`方法只需指定想要使用的模型名称和文本分类的类别数即可完成定义模型网络。"
   ]
  },
  {
   "cell_type": "code",
   "execution_count": 8,
   "metadata": {
    "collapsed": false
   },
   "outputs": [
    {
     "name": "stderr",
     "output_type": "stream",
     "text": [
      "[2021-06-15 20:43:23,598] [    INFO] - Already cached /home/aistudio/.paddlenlp/models/bert-base-chinese/bert-base-chinese.pdparams\n"
     ]
    }
   ],
   "source": [
    "# Define the model netword and its loss\n",
    "model = BertForTokenClassification.from_pretrained(\"bert-base-chinese\", num_classes=len(label_vocab))"
   ]
  },
  {
   "cell_type": "markdown",
   "metadata": {
    "collapsed": false
   },
   "source": [
    "PaddleNLP不仅支持ERNIE预训练模型，还支持BERT、RoBERTa、Electra等预训练模型。\n",
    "下表汇总了目前PaddleNLP支持的各类预训练模型。您可以使用PaddleNLP提供的模型，完成文本分类、序列标注、问答等任务。同时我们提供了众多预训练模型的参数权重供用户使用，其中包含了二十多种中文语言模型的预训练权重。中文的预训练模型有`bert-base-chinese, bert-wwm-chinese, bert-wwm-ext-chinese, ernie-1.0, ernie-tiny, gpt2-base-cn, roberta-wwm-ext, roberta-wwm-ext-large, rbt3, rbtl3, chinese-electra-base, chinese-electra-small, chinese-xlnet-base, chinese-xlnet-mid, chinese-xlnet-large, unified_transformer-12L-cn, unified_transformer-12L-cn-luge`等。\n",
    "\n",
    "更多预训练模型参考：[PaddleNLP Transformer API](https://github.com/PaddlePaddle/PaddleNLP/blob/develop/docs/transformers.md)。\n",
    "\n",
    "更多预训练模型fine-tune下游任务使用方法，请参考：[examples](https://github.com/PaddlePaddle/PaddleNLP/tree/develop/examples)。"
   ]
  },
  {
   "cell_type": "markdown",
   "metadata": {
    "collapsed": false
   },
   "source": [
    "## 设置Fine-Tune优化策略，模型配置\n",
    "适用于ERNIE/BERT这类Transformer模型的迁移优化学习率策略为warmup的动态学习率。\n",
    "\n",
    "<p align=\"center\">\n",
    "<img src=\"https://ai-studio-static-online.cdn.bcebos.com/2bc624280a614a80b5449773192be460f195b13af89e4e5cbaf62bf6ac16de2c\" width=\"40%\" height=\"30%\"/> <br />\n",
    "</p><br><center>图4：动态学习率示意图</center></br>\n",
    "\n"
   ]
  },
  {
   "cell_type": "code",
   "execution_count": 9,
   "metadata": {
    "collapsed": false
   },
   "outputs": [],
   "source": [
    "metric = ChunkEvaluator(label_list=label_vocab.keys(), suffix=True)\n",
    "loss_fn = paddle.nn.loss.CrossEntropyLoss(ignore_index=ignore_label)\n",
    "optimizer = paddle.optimizer.AdamW(learning_rate=2e-5, parameters=model.parameters())"
   ]
  },
  {
   "cell_type": "markdown",
   "metadata": {
    "collapsed": false
   },
   "source": [
    "## 模型训练与评估\n",
    "\n",
    "\n",
    "模型训练的过程通常有以下步骤：\n",
    "\n",
    "1. 从dataloader中取出一个batch data\n",
    "2. 将batch data喂给model，做前向计算\n",
    "3. 将前向计算结果传给损失函数，计算loss。将前向计算结果传给评价方法，计算评价指标。\n",
    "4. loss反向回传，更新梯度。重复以上步骤。\n",
    "\n",
    "每训练一个epoch时，程序将会评估一次，评估当前模型训练的效果。"
   ]
  },
  {
   "cell_type": "code",
   "execution_count": 10,
   "metadata": {
    "collapsed": false
   },
   "outputs": [
    {
     "name": "stdout",
     "output_type": "stream",
     "text": [
      "epoch:0 - step:1 - loss: 1.791428\n",
      "epoch:0 - step:2 - loss: 1.390726\n",
      "epoch:0 - step:3 - loss: 1.077544\n",
      "epoch:0 - step:4 - loss: 0.718835\n",
      "epoch:0 - step:5 - loss: 0.484819\n",
      "epoch:0 - step:6 - loss: 0.439622\n",
      "epoch:0 - step:7 - loss: 0.321826\n",
      "epoch:0 - step:8 - loss: 0.328837\n",
      "epoch:0 - step:9 - loss: 0.239565\n",
      "epoch:0 - step:10 - loss: 0.287841\n",
      "epoch:0 - step:11 - loss: 0.143215\n"
     ]
    }
   ],
   "source": [
    "step = 0\n",
    "for epoch in range(10):\n",
    "    for idx, (input_ids, token_type_ids, length, labels) in enumerate(train_loader):\n",
    "        logits = model(input_ids, token_type_ids)\n",
    "        loss = paddle.mean(loss_fn(logits, labels))\n",
    "        loss.backward()\n",
    "        optimizer.step()\n",
    "        optimizer.clear_grad()\n",
    "        step += 1\n",
    "        print(\"epoch:%d - step:%d - loss: %f\" % (epoch, step, loss))\n",
    "    evaluate(model, metric, dev_loader)\n",
    "\n",
    "    paddle.save(model.state_dict(),\n",
    "                './ernie_result/model_%d.pdparams' % step)\n",
    "# model.save_pretrained('./checkpoint')\n",
    "# tokenizer.save_pretrained('./checkpoint')"
   ]
  },
  {
   "cell_type": "markdown",
   "metadata": {
    "collapsed": false
   },
   "source": [
    "## 模型预测\n",
    "\n",
    "训练保存好的模型，即可用于预测。如以下示例代码自定义预测数据，调用`predict()`函数即可一键预测。"
   ]
  },
  {
   "cell_type": "code",
   "execution_count": null,
   "metadata": {
    "collapsed": false
   },
   "outputs": [],
   "source": [
    "preds = predict(model, test_loader, test_ds, label_vocab)\n",
    "file_path = \"ernie_results.txt\"\n",
    "with open(file_path, \"w\", encoding=\"utf8\") as fout:\n",
    "    fout.write(\"\\n\".join(preds))\n",
    "# Print some examples\n",
    "print(\n",
    "    \"The results have been saved in the file: %s, some examples are shown below: \"\n",
    "    % file_path)\n",
    "print(\"\\n\".join(preds[:10]))"
   ]
  },
  {
   "cell_type": "markdown",
   "metadata": {
    "collapsed": false
   },
   "source": [
    "# 进一步使用CRF\n",
    "\n",
    "PaddleNLP提供了CRF Layer，它能够学习label之间的关系，能够帮助模型更好地学习、预测序列标注任务。\n",
    "\n",
    "我们在PaddleNLP仓库中提供了[示例](https://github.com/PaddlePaddle/PaddleNLP/blob/develop/examples/information_extraction/waybill_ie/run_ernie_crf.py)，您可以参照示例代码使用Ernie-CRF结构完成快递单信息抽取任务。"
   ]
  },
  {
   "cell_type": "markdown",
   "metadata": {
    "collapsed": false
   },
   "source": [
    "# 加入交流群，一起学习吧\n",
    "\n",
    "现在就加入课程QQ交流群，一起交流NLP技术吧！\n",
    "\n",
    "<img src=\"https://ai-studio-static-online.cdn.bcebos.com/d953727af0c24a7c806ab529495f0904f22f809961be420b8c88cdf59b837394\" width=\"200\" height=\"250\" >"
   ]
  }
 ],
 "metadata": {
  "kernelspec": {
   "display_name": "PaddlePaddle 2.1.0 (Python 3.5)",
   "language": "python",
   "name": "py35-paddle1.2.0"
  },
  "language_info": {
   "codemirror_mode": {
    "name": "ipython",
    "version": 3
   },
   "file_extension": ".py",
   "mimetype": "text/x-python",
   "name": "python",
   "nbconvert_exporter": "python",
   "pygments_lexer": "ipython3",
   "version": "3.7.4"
  }
 },
 "nbformat": 4,
 "nbformat_minor": 1
}
