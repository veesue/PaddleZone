{
 "cells": [
  {
   "cell_type": "markdown",
   "metadata": {
    "collapsed": false
   },
   "source": [
    "基本完全按照官方baseline：[https://aistudio.baidu.com/aistudio/projectDetail/315680](https://aistudio.baidu.com/aistudio/projectDetail/315680)\n",
    "\n",
    "finetune wait-1 model的时候，epoch改为5\n",
    "\n",
    "run.sh与output_asr目录在SimulTransBaseline/目录下"
   ]
  },
  {
   "cell_type": "code",
   "execution_count": null,
   "metadata": {
    "collapsed": false
   },
   "outputs": [],
   "source": [
    "import os"
   ]
  },
  {
   "cell_type": "code",
   "execution_count": null,
   "metadata": {
    "collapsed": false
   },
   "outputs": [],
   "source": [
    "# Git clone sample code\n",
    "if 'SimulTransBaseline' not in os.listdir('/home/aistudio'):\n",
    "    !git clone https://github.com/autosimtrans/SimulTransBaseline"
   ]
  },
  {
   "cell_type": "code",
   "execution_count": null,
   "metadata": {
    "collapsed": false
   },
   "outputs": [],
   "source": [
    "if 'data' not in os.listdir('/home/aistudio/SimulTransBaseline'):\n",
    "    !unzip data/data23717/data_models.zip -d ./SimulTransBaseline/"
   ]
  },
  {
   "cell_type": "code",
   "execution_count": null,
   "metadata": {
    "collapsed": false
   },
   "outputs": [],
   "source": [
    "!mkdir -p /home/aistudio/external-libraries"
   ]
  },
  {
   "cell_type": "code",
   "execution_count": 5,
   "metadata": {
    "collapsed": false
   },
   "outputs": [],
   "source": [
    "# Install sacremoses and jieba\n",
    "if 'sacremoses' not in os.listdir('/home/aistudio/external-libraries'):\n",
    "    !/opt/conda/envs/python35-paddle120-env/bin/pip install 'sacremoses==0.0.38' -t /home/aistudio/external-libraries\n",
    "if 'jieba' not in os.listdir('/home/aistudio/external-libraries'):\n",
    "    !/opt/conda/envs/python35-paddle120-env/bin/pip install 'jieba==0.37' -t /home/aistudio/external-libraries"
   ]
  },
  {
   "cell_type": "code",
   "execution_count": 6,
   "metadata": {
    "collapsed": false
   },
   "outputs": [],
   "source": [
    "import sys\n",
    "sys.path = ['/home/aistudio/external-libraries'] + sys.path\n",
    "import paddle\n",
    "import jieba\n",
    "assert(jieba.__version__ == '0.37')"
   ]
  },
  {
   "cell_type": "code",
   "execution_count": 7,
   "metadata": {
    "collapsed": false
   },
   "outputs": [
    {
     "name": "stdout",
     "output_type": "stream",
     "text": [
      "/home/aistudio/SimulTransBaseline\n"
     ]
    }
   ],
   "source": [
    "%cd SimulTransBaseline/\n",
    "!mkdir -p decode"
   ]
  },
  {
   "cell_type": "code",
   "execution_count": 9,
   "metadata": {
    "collapsed": false
   },
   "outputs": [
    {
     "name": "stdout",
     "output_type": "stream",
     "text": [
      "MT evaluation scorer ended on 2021 Jul 22 at 20:15:48\r"
     ]
    }
   ],
   "source": [
    "# test wait-1 transcription\n",
    "!bash eval_wk.sh"
   ]
  },
  {
   "cell_type": "code",
   "execution_count": 12,
   "metadata": {
    "collapsed": false
   },
   "outputs": [
    {
     "name": "stdout",
     "output_type": "stream",
     "text": [
      "MT evaluation scorer ended on 2021 Jul 22 at 20:28:47\r"
     ]
    }
   ],
   "source": [
    "# test full sentence translation with transcription\n",
    "!bash eval_full.sh"
   ]
  },
  {
   "cell_type": "code",
   "execution_count": 13,
   "metadata": {
    "collapsed": false
   },
   "outputs": [
    {
     "name": "stdout",
     "output_type": "stream",
     "text": [
      "MT evaluation scorer ended on 2021 Jul 22 at 20:33:26\r"
     ]
    }
   ],
   "source": [
    "# test wait-1 translation with ASR\n",
    "!bash eval_wk_asr.sh"
   ]
  },
  {
   "cell_type": "code",
   "execution_count": 14,
   "metadata": {
    "collapsed": false
   },
   "outputs": [
    {
     "name": "stdout",
     "output_type": "stream",
     "text": [
      "Building prefix dict from /home/aistudio/external-libraries/jieba/dict.txt ...\n",
      "2021-07-22 20:37:03,379-DEBUG: Building prefix dict from /home/aistudio/external-libraries/jieba/dict.txt ...\n",
      "Loading model from cache /tmp/jieba.cache\n",
      "2021-07-22 20:37:03,379-DEBUG: Loading model from cache /tmp/jieba.cache\n",
      "Loading model cost 0.693 seconds.\n",
      "2021-07-22 20:37:04,072-DEBUG: Loading model cost 0.693 seconds.\n",
      "Prefix dict has been built succesfully.\n",
      "2021-07-22 20:37:04,073-DEBUG: Prefix dict has been built succesfully.\n",
      "2021-07-22 20:37:04,247-WARNING: Please NOTE: dygraph can support return as list only. Change to return as list.\n",
      "W0722 20:37:04.900568  1799 device_context.cc:237] Please NOTE: device: 0, CUDA Capability: 70, Driver API Version: 11.0, Runtime API Version: 9.0\n",
      "W0722 20:37:04.904790  1799 device_context.cc:245] device: 0, cuDNN Version: 7.3.\n"
     ]
    }
   ],
   "source": [
    "!sh run_full.sh < streaming_transcription.txt > output_transcript/source_translation.txt"
   ]
  },
  {
   "cell_type": "code",
   "execution_count": 19,
   "metadata": {
    "collapsed": false
   },
   "outputs": [
    {
     "name": "stdout",
     "output_type": "stream",
     "text": [
      "Building prefix dict from /home/aistudio/external-libraries/jieba/dict.txt ...\n",
      "2021-07-22 20:50:30,563-DEBUG: Building prefix dict from /home/aistudio/external-libraries/jieba/dict.txt ...\n",
      "Loading model from cache /tmp/jieba.cache\n",
      "2021-07-22 20:50:30,564-DEBUG: Loading model from cache /tmp/jieba.cache\n",
      "Loading model cost 0.698 seconds.\n",
      "2021-07-22 20:50:31,261-DEBUG: Loading model cost 0.698 seconds.\n",
      "Prefix dict has been built succesfully.\n",
      "2021-07-22 20:50:31,261-DEBUG: Prefix dict has been built succesfully.\n",
      "2021-07-22 20:50:31,749-WARNING: Please NOTE: dygraph can support return as list only. Change to return as list.\n",
      "W0722 20:50:32.408816  3101 device_context.cc:237] Please NOTE: device: 0, CUDA Capability: 70, Driver API Version: 11.0, Runtime API Version: 9.0\n",
      "W0722 20:50:32.412348  3101 device_context.cc:245] device: 0, cuDNN Version: 7.3.\n"
     ]
    }
   ],
   "source": [
    "!sh run_w1.sh < streaming_asr.txt > output_asr/source_translation.txt"
   ]
  },
  {
   "cell_type": "markdown",
   "metadata": {
    "collapsed": false
   },
   "source": [
    "请点击[此处](https://ai.baidu.com/docs#/AIStudio_Project_Notebook/a38e5576)查看本环境基本用法.  <br>\n",
    "Please click [here ](https://ai.baidu.com/docs#/AIStudio_Project_Notebook/a38e5576) for more detailed instructions. "
   ]
  }
 ],
 "metadata": {
  "kernelspec": {
   "display_name": "PaddlePaddle 1.7.2 (Python 3.5)",
   "language": "python",
   "name": "py35-paddle1.2.0"
  },
  "language_info": {
   "codemirror_mode": {
    "name": "ipython",
    "version": 3
   },
   "file_extension": ".py",
   "mimetype": "text/x-python",
   "name": "python",
   "nbconvert_exporter": "python",
   "pygments_lexer": "ipython3",
   "version": "3.7.4"
  }
 },
 "nbformat": 4,
 "nbformat_minor": 1
}
